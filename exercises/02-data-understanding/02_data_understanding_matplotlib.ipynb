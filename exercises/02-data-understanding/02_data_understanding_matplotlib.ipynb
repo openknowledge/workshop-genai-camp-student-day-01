{
 "cells": [
  {
   "cell_type": "markdown",
   "metadata": {
    "id": "ePcF01H6rr16"
   },
   "source": [
    "# GenAI-Camp: Day 01\n",
    "## Lesson: Data Understanding with Matplotlib\n",
    "\n",
    "This lesson is intended to show you the basics of data understanding using *matplotlib* \n",
    "\n",
    "During this lesson you will learn how to ...\n",
    "\n",
    "- plot data using different types of plots\n",
    "- enhance these plots with additional information\n",
    "- create insights visually\n"
   ]
  },
  {
   "cell_type": "markdown",
   "metadata": {
    "id": "SxQu4eGGDrJe"
   },
   "source": [
    "### Set up the environment\n",
    "Import the necessary libraries, set constants, and define helper functions."
   ]
  },
  {
   "cell_type": "code",
   "execution_count": null,
   "metadata": {},
   "outputs": [],
   "source": [
    "# Import necessary libraries\n",
    "import pandas as pd\n",
    "import matplotlib.pyplot as plt\n",
    "from wordcloud import WordCloud\n",
    "from collections import Counter\n",
    "import numpy as np\n",
    "import os"
   ]
  },
  {
   "cell_type": "code",
   "execution_count": null,
   "metadata": {},
   "outputs": [],
   "source": [
    "# Check runtime environment to make sure we are running in a colab environment. \n",
    "if os.getenv(\"COLAB_RELEASE_TAG\"):\n",
    "   COLAB = True\n",
    "   print(\"Running on COLAB environment.\") \n",
    "else:\n",
    "   COLAB = False\n",
    "   print(\"WARNING: Running on LOCAL environment.\")"
   ]
  },
  {
   "cell_type": "code",
   "execution_count": null,
   "metadata": {},
   "outputs": [],
   "source": [
    "# Define path of ressources\n",
    "if COLAB:\n",
    "    # Clone the data repository into colab\n",
    "    !git clone https://github.com/openknowledge/workshop-genai-camp-data.git\n",
    "    DATA_PATH = \"/content/workshop-genai-camp-data/day-01/data\"\n",
    "else:\n",
    "    DATA_PATH = \"../data\"\n",
    "IMDB_FILE = DATA_PATH + \"/imdb_dataset.csv\""
   ]
  },
  {
   "cell_type": "markdown",
   "metadata": {},
   "source": [
    "### Introduction: [Matplotlib](https://matplotlib.org/stable/)"
   ]
  },
  {
   "cell_type": "code",
   "execution_count": null,
   "metadata": {},
   "outputs": [],
   "source": [
    "# Create some dummy data with numpy\n",
    "x = np.linspace(0, 10, 100)\n",
    "\n",
    "# plot creates a simple line plot\n",
    "plt.plot(x, np.sin(x))\n",
    "plt.plot(x, np.cos(x))\n",
    "\n",
    "# call plt.show() to display the plot\n",
    "plt.show()"
   ]
  },
  {
   "cell_type": "code",
   "execution_count": null,
   "metadata": {},
   "outputs": [],
   "source": [
    "# Add axes labels, legend and title\n",
    "\n",
    "# Define a label for the legend\n",
    "plt.plot(x, np.sin(x), label='sin(x)')\n",
    "plt.plot(x, np.cos(x),  label='cos(x)')\n",
    "\n",
    "# This adds a title\n",
    "plt.title('Sine and Cosine Functions')\n",
    "\n",
    "# This adds labels to the axes\n",
    "plt.xlabel('x')\n",
    "plt.ylabel('y')\n",
    "\n",
    "# This adds the legend to the plot\n",
    "plt.legend()\n",
    "\n",
    "plt.show()"
   ]
  },
  {
   "cell_type": "code",
   "execution_count": null,
   "metadata": {},
   "outputs": [],
   "source": [
    "# Add subplots \n",
    "\n",
    "# Define the figure size\n",
    "plt.figure(figsize=(7, 7))\n",
    "\n",
    "# Create two subplots\n",
    "# The first subplot is on the top \n",
    "plt.subplot(2, 1, 1) # 2 rows, 1 column, first subplot\n",
    "plt.plot(x, np.sin(x), label='sin(x)')\n",
    "plt.title('Sine Function')\n",
    "\n",
    "# The second subplot is on the bottom \n",
    "plt.subplot(2, 1, 2) # 2 rows, 1 column, second subplot\n",
    "plt.plot(x, np.cos(x), label='cos(x)')\n",
    "plt.title('Cosine Function')\n",
    "\n",
    "plt.show()"
   ]
  },
  {
   "cell_type": "code",
   "execution_count": null,
   "metadata": {},
   "outputs": [],
   "source": [
    "# There are many more plot types\n",
    "\n",
    "plt.figure(figsize=(12, 4))\n",
    "\n",
    "# For example, a scatter plot\n",
    "plt.subplot(1, 3, 1)\n",
    "plt.scatter(x, np.sin(x), label='sin(x)', color='blue', alpha=0.5)\n",
    "plt.title('Scatter Plot')\n",
    "\n",
    "# Or a pie chart\n",
    "plt.subplot(1, 3, 2)\n",
    "labels = 'Frogs', 'Hogs', 'Dogs', 'Logs'\n",
    "sizes = [15, 30, 45, 10]\n",
    "plt.pie(sizes,labels=labels)\n",
    "plt.title('Pie Chart')\n",
    "\n",
    "# Or a bar chart\n",
    "plt.subplot(1, 3, 3)\n",
    "labels = ['A', 'B', 'C', 'D']\n",
    "values = [1, 2, 3, 4]\n",
    "plt.bar(labels, values, color='orange')\n",
    "plt.title('Bar Chart')\n",
    "\n",
    "plt.suptitle('Different Plot Types')\n",
    "\n",
    "plt.show()"
   ]
  },
  {
   "cell_type": "markdown",
   "metadata": {},
   "source": [
    "### Exercise 01: Read data\n",
    "In this exercise you should [read](https://pandas.pydata.org/docs/reference/api/pandas.read_csv.html) data from the file system. For this use pandas."
   ]
  },
  {
   "cell_type": "code",
   "execution_count": null,
   "metadata": {},
   "outputs": [],
   "source": [
    "# TODO: Read the IMDB dataset from the file\n",
    "imdb_data = "
   ]
  },
  {
   "cell_type": "markdown",
   "metadata": {},
   "source": [
    "### Exercise 02: Sentiment Distribution\n",
    "Visualize the number of positive vs. negative reviews\n",
    "1. Create a [bar plot](https://matplotlib.org/stable/api/_as_gen/matplotlib.pyplot.bar.html) to display the distribution of sentiment counts\n",
    "\n",
    "**Hints**:\n",
    "* Use the keys and values of the dictionary as `x` and `height` in the bar plot\n",
    "* Use `plt.bar()` to create the bar plot\n",
    "* Label your axes and title the plot\n"
   ]
  },
  {
   "cell_type": "code",
   "execution_count": null,
   "metadata": {},
   "outputs": [],
   "source": [
    "# Get the counts of each label as a dictionary\n",
    "counts_per_label = imdb_data['label'].value_counts().to_dict()\n",
    "\n",
    "# TODO: Create a bar plot to visualize the distribution of the labels\n"
   ]
  },
  {
   "cell_type": "markdown",
   "metadata": {},
   "source": [
    "### Exercise 03: Review Length Distribution\n",
    "Understand the length distribution of the reviews by visualization.\n",
    "1. Compute the number of words for each review.\n",
    "2. Create a histogram to visualize the distribution of review lengths.\n",
    "3. Experiment with different bin sizes (e.g., 20, 50, 100).\n",
    "\n",
    "**Hints**:\n",
    "* Use `.str.split().apply(len)` to get the word count from the text-Series (`imdb_data['text']`)\n",
    "* Use `plt.hist()` to plot the word count.\n"
   ]
  },
  {
   "cell_type": "code",
   "execution_count": null,
   "metadata": {},
   "outputs": [],
   "source": [
    "# TODO: Create a histogram to visualize the distribution of review lengths\n"
   ]
  },
  {
   "cell_type": "markdown",
   "metadata": {},
   "source": [
    "### Exercise 04: Word Cloud Visualization\n",
    "Visualize the most common words in the **negative** reviews as a second subplot.\n",
    "1. See how the wordcloud was created from the positive reviews\n",
    "2. Do the same for negative reviews\n",
    "3. Plot the wordcloud as a subplot next to the other wordcloud (horizontally aligned)\n",
    "\n",
    "**Hints**:\n",
    "* See [WordCloud](https://amueller.github.io/word_cloud/generated/wordcloud.WordCloud.html) library for background knowledge\n"
   ]
  },
  {
   "cell_type": "code",
   "execution_count": null,
   "metadata": {},
   "outputs": [],
   "source": [
    "# Separate the reviews\n",
    "positive_reviews = imdb_data[imdb_data['label'] == 1]['text']\n",
    "\n",
    "# Generate word clouds\n",
    "plt.figure(figsize=(12, 6))\n",
    "plt.subplot(1, 2, 1)\n",
    "wordcloud_pos = WordCloud(width=400, height=300, background_color='white').generate(' '.join(positive_reviews))\n",
    "plt.imshow(wordcloud_pos, interpolation='bilinear')\n",
    "plt.title('Positive Reviews Word Cloud')\n",
    "plt.axis('off')\n",
    "\n",
    "# TODO: Create a second word cloud for negative reviews in the second subplot\n"
   ]
  },
  {
   "cell_type": "markdown",
   "metadata": {},
   "source": [
    "### Exercise 05: Top Words Frequency Plot\n",
    "See which words are most common in each sentiment.\n",
    "1. Get the most common words and their count for the negative reviews\n",
    "2. Create a horizontal bar plot for each sentiment, where the words are shown on the y axis and the count of words defines the width\n",
    "\n",
    "**Hints**:\n",
    "* Use `plt.subplot()` to create two subplots \n",
    "* Use `plt.barh()` for a horizontal bar plot."
   ]
  },
  {
   "cell_type": "code",
   "execution_count": null,
   "metadata": {},
   "outputs": [],
   "source": [
    "# Define the number of words to display\n",
    "amount_of_words = 20\n",
    "\n",
    "# Tokenize and count word frequencies\n",
    "positive_words = Counter(' '.join(positive_reviews).split())\n",
    "\n",
    "# TODO: Tokenize and count word frequencies for negative reviews\n",
    "negative_words = \n",
    "\n",
    "# Get the most common words\n",
    "pos_common = positive_words.most_common(amount_of_words)\n",
    "neg_common = negative_words.most_common(amount_of_words)\n",
    "\n",
    "# Get the words and their counts for positive reviews\n",
    "positive_words = []\n",
    "positive_counts = []\n",
    "for word, count in pos_common:\n",
    "    positive_words.append(word)\n",
    "    positive_counts.append(count)\n",
    "\n",
    "# TODO: Get the most common words and their counts for negative reviews\n",
    "\n",
    "\n",
    "\n",
    "# TODO: Create a bar plot for the most common words in positive and negative reviews\n",
    "plt.figure(figsize=(12, 5))\n"
   ]
  },
  {
   "cell_type": "markdown",
   "metadata": {},
   "source": [
    "### Exercise 06: Sentiment Trends Over Time\n",
    "Show the sentiment trends over the years.  \n",
    "1. Create a line plot to show the mean trend.\n",
    "2. Change the linestyle of the plot to `--`\n",
    "\n",
    "**Hints**:\n",
    "* Use `sentiment_trend.index` to get the list of years.\n",
    "* Use `sentiment_trend.values` to get the mean sentiments"
   ]
  },
  {
   "cell_type": "code",
   "execution_count": null,
   "metadata": {},
   "outputs": [],
   "source": [
    "# Get the sentiment trend over time\n",
    "sentiment_trend = imdb_data.groupby('year')['label'].mean()\n",
    "\n",
    "# TODO: Plot the sentiment trend over time using a line plot\n",
    "plt.figure(figsize=(8, 5))\n"
   ]
  },
  {
   "cell_type": "markdown",
   "metadata": {},
   "source": [
    "### Exercise 07: Conclusion Data Understanding\n",
    "Think about possible preprocessing mechanisms. What transformations should we apply to the data to enable better usage? Do you think, we need to clean the review texts?"
   ]
  }
 ],
 "metadata": {
  "colab": {
   "provenance": []
  },
  "kernelspec": {
   "display_name": ".venv",
   "language": "python",
   "name": "python3"
  },
  "language_info": {
   "codemirror_mode": {
    "name": "ipython",
    "version": 3
   },
   "file_extension": ".py",
   "mimetype": "text/x-python",
   "name": "python",
   "nbconvert_exporter": "python",
   "pygments_lexer": "ipython3",
   "version": "3.13.1"
  }
 },
 "nbformat": 4,
 "nbformat_minor": 4
}

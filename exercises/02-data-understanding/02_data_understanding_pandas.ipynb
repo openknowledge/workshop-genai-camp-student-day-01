{
 "cells": [
  {
   "cell_type": "markdown",
   "id": "42788ab2",
   "metadata": {},
   "source": [
    "# GenAI-Camp: Day 01\n",
    "## Lesson: Data Understanding with Pandas\n",
    "\n",
    "This lesson is intended to show you the basics of data understanding using *pandas*.\n",
    "\n",
    "During this lesson you will learn how to ...\n",
    "\n",
    "- read tabular data\n",
    "- explore descriptive statistics\n",
    "- do simple data manipulation"
   ]
  },
  {
   "cell_type": "markdown",
   "id": "0d15a4ba",
   "metadata": {},
   "source": [
    "### Set up the environment\n",
    "Import the necessary libraries, set constants, and define helper functions."
   ]
  },
  {
   "cell_type": "code",
   "execution_count": null,
   "id": "7c4b38d1",
   "metadata": {},
   "outputs": [],
   "source": [
    "# Import necessary libraries\n",
    "import pandas as pd\n",
    "import numpy as np\n",
    "import os"
   ]
  },
  {
   "cell_type": "code",
   "execution_count": null,
   "id": "7f0febc6",
   "metadata": {},
   "outputs": [],
   "source": [
    "# Check runtime environment to make sure we are running in a colab environment. \n",
    "if os.getenv(\"COLAB_RELEASE_TAG\"):\n",
    "   COLAB = True\n",
    "   print(\"Running on COLAB environment.\") \n",
    "else:\n",
    "   COLAB = False\n",
    "   print(\"WARNING: Running on LOCAL environment.\")"
   ]
  },
  {
   "cell_type": "code",
   "execution_count": null,
   "id": "26dceb59",
   "metadata": {},
   "outputs": [],
   "source": [
    "# Define path of ressources\n",
    "if COLAB:\n",
    "    # Clone the data repository into colab\n",
    "    !git clone https://github.com/openknowledge/workshop-genai-camp-data.git\n",
    "    DATA_PATH = \"/content/workshop-genai-camp-data/day-01/data\"\n",
    "else:\n",
    "    DATA_PATH = \"../data\"\n",
    "IMDB_FILE = DATA_PATH + \"/imdb_dataset.csv\""
   ]
  },
  {
   "cell_type": "markdown",
   "id": "b4c9a5e4",
   "metadata": {},
   "source": [
    "### Introduction: [Pandas](https://pandas.pydata.org/docs/)"
   ]
  },
  {
   "cell_type": "code",
   "execution_count": null,
   "id": "b0fd5752",
   "metadata": {},
   "outputs": [],
   "source": [
    "# Create a sample dataframe for demonstration\n",
    "data = {\n",
    "    'Movie': ['Inception', 'The Dark Knight', 'Interstellar', 'Dunkirk', 'Greatest Showman'],\n",
    "    'Year': [2010, 2008, 2014, 2017, 2017],\n",
    "    'Rating': [8.8, 9.0, 8.6, 7.9, 7.5]\n",
    "}\n",
    "\n",
    "# Load the sample data into a pandas DataFrame\n",
    "df_introduction = pd.DataFrame(data)\n",
    "df_introduction"
   ]
  },
  {
   "cell_type": "code",
   "execution_count": null,
   "id": "3003ba09",
   "metadata": {},
   "outputs": [],
   "source": [
    "# A column of a dataframe is called Series\n",
    "type(df_introduction['Movie'])"
   ]
  },
  {
   "cell_type": "code",
   "execution_count": null,
   "id": "b604911f",
   "metadata": {},
   "outputs": [],
   "source": [
    "# Accessing a column in a dataframe returns the Series\n",
    "df_introduction['Movie']"
   ]
  },
  {
   "cell_type": "code",
   "execution_count": null,
   "id": "aa26ec40",
   "metadata": {},
   "outputs": [],
   "source": [
    "# Filter the dataset to include only movies with a rating of 8.0 or higher\n",
    "high_rated_movies = df_introduction[df_introduction['Rating'] >= 8.0]\n",
    "high_rated_movies"
   ]
  },
  {
   "cell_type": "code",
   "execution_count": null,
   "id": "96ad315e",
   "metadata": {},
   "outputs": [],
   "source": [
    "# Create a new column 'Decade' based on the 'Year' column\n",
    "df_introduction['Decade'] = (df_introduction['Year'] // 10) * 10\n",
    "df_introduction"
   ]
  },
  {
   "cell_type": "code",
   "execution_count": null,
   "id": "1adbf627",
   "metadata": {},
   "outputs": [],
   "source": [
    "# Get the movie title with the highest rating\n",
    "highest_rated_movie = df_introduction.loc[df_introduction['Rating'].idxmax(), 'Movie']\n",
    "highest_rated_movie"
   ]
  },
  {
   "cell_type": "markdown",
   "id": "829c59e7",
   "metadata": {},
   "source": [
    "### IMDB Dataset of Movie Reviews with Sentiments\n",
    "The IMDB Dataset is a popular dataset used for natural language processing (NLP) and machine learning tasks, particularly for binary sentiment classification (positive/negative). It contains a large collection of movie reviews from the Internet Movie Database (IMDB), labeled according to their sentiment."
   ]
  },
  {
   "cell_type": "code",
   "execution_count": null,
   "id": "b2902d57",
   "metadata": {},
   "outputs": [],
   "source": [
    "# Load the IMDB dataset\n",
    "df = pd.read_csv(IMDB_FILE)\n",
    "df"
   ]
  },
  {
   "cell_type": "markdown",
   "id": "18a272cf",
   "metadata": {},
   "source": [
    "### Exercise 01: Data Inspection and Initial Understanding\n",
    "Understand the structure and contents of the IMDB dataset. Inspect the data types, check for missing values, and analyze the distribution of labels (positive/negative reviews).\n",
    "1. Display the first 5 rows and last 5 rows of the dataset.\n",
    "2. Check the column names, data types, and the number of missing values for each column.\n",
    "3. Count the number of positive and negative reviews.\n",
    "\n",
    "**Hints**:\n",
    "* Use `.head()` and `.tail()` to inspect the rows of a dataframe (see [documentation](https://pandas.pydata.org/docs/reference/api/pandas.DataFrame.head.html)).\n",
    "* `.info()` will give you the column names and data types (see [documentation](https://pandas.pydata.org/docs/reference/api/pandas.DataFrame.info.html)).\n",
    "* `.isna().sum()` will tell you if there are any missing values in the dataset (see [documentation](https://pandas.pydata.org/docs/reference/api/pandas.DataFrame.isna.html)).\n",
    "* Use `.value_counts()` to count the distribution of positive and negative labels (see [documentation](https://pandas.pydata.org/docs/reference/api/pandas.Series.value_counts.html)).\n"
   ]
  },
  {
   "cell_type": "code",
   "execution_count": null,
   "id": "ca0f1310",
   "metadata": {},
   "outputs": [],
   "source": [
    "# TODO: Your implementation"
   ]
  },
  {
   "cell_type": "markdown",
   "id": "7c2dae80",
   "metadata": {},
   "source": [
    "### Exercise 02: Show examples\n",
    "Print out some examples for positive and negative reviews.\n",
    "1. Print out 5 random reviews which have the label \"0\"\n",
    "2. Print out 5 random reviews which have the label \"1\"\n",
    "\n",
    "**Hints**:\n",
    "* Use `.sample()` on the filtered dataframe (see [documentation](https://pandas.pydata.org/docs/reference/api/pandas.DataFrame.sample.html)).\n",
    "* You can create a python list from the samples by using `to_list()`\n",
    "* Iterate over this list and print the elements"
   ]
  },
  {
   "cell_type": "code",
   "execution_count": null,
   "id": "14c74240",
   "metadata": {},
   "outputs": [],
   "source": [
    "# Filter the dataframe by the 'label' column\n",
    "filtered_label_0_reviews = df[df['label'] == 0]\n",
    "filtered_label_1_reviews = df[df['label'] == 1]\n",
    "\n",
    "# TODO: Your implementation"
   ]
  },
  {
   "cell_type": "markdown",
   "id": "12c77d60",
   "metadata": {},
   "source": [
    "### Exercise 03: Minor data manipulation\n",
    "Rename columns and values of the given dataframe.\n",
    "\n",
    "1. Rename the column \"label\" to \"sentiment\"\n",
    "2. Rename the column \"text\" to \"review\"\n",
    "3. Rename values in column \"sentiment\" to \"positive\" and \"negative\"\n",
    "4. Print the dataframe\n",
    "\n",
    "**Hints**:\n",
    "* Use `.rename()` for renaming columns (see [documentation](https://pandas.pydata.org/docs/reference/api/pandas.DataFrame.rename.html))\n",
    "* Use `.map()` for updating values of a column (see [documentation](https://pandas.pydata.org/docs/reference/api/pandas.Series.map.html))"
   ]
  },
  {
   "cell_type": "code",
   "execution_count": null,
   "id": "8f11d117",
   "metadata": {},
   "outputs": [],
   "source": [
    "# TODO: Your implementation"
   ]
  },
  {
   "cell_type": "markdown",
   "id": "a11a1af5",
   "metadata": {},
   "source": [
    "### Exercise 04: Summary Statistics on Review Lengths\n",
    "Analyze the length of the movie reviews in terms of character count. Calculate key summary statistics for the review lengths, including the average, maximum, and minimum lengths.\n",
    "1. Add a new column called review_length that stores the length of each review (in characters).\n",
    "2. Calculate the average, maximum, and minimum review lengths.\n",
    "3. Find the median and standard deviation of the review lengths.\n",
    "4. Find the longest and shortest reviews in the dataset.\n",
    "\n",
    "**Hints**:\n",
    "* Use `.apply(len)` to create the review_length column  (see [documentation](https://pandas.pydata.org/docs/reference/api/pandas.DataFrame.apply.html)).\n",
    "* Use `.mean()`, `.max()`, `.min()`, `.median()`, and `.std()` to get the desired statistics (see [documentation](https://pandas.pydata.org/docs/reference/api/pandas.DataFrame.mean.html)).\n",
    "* To find the longest and shortest reviews, you can use `.idxmax()` and `.idxmin()` on the review_length column (see [documentation](https://pandas.pydata.org/docs/reference/api/pandas.DataFrame.idxmax.html)).\n"
   ]
  },
  {
   "cell_type": "code",
   "execution_count": null,
   "id": "e19e1d8f",
   "metadata": {},
   "outputs": [],
   "source": [
    "# TODO: Your implementation"
   ]
  },
  {
   "cell_type": "markdown",
   "id": "a34a5ad7",
   "metadata": {},
   "source": [
    "### Exercise 05: Sentiment Distribution by length of review\n",
    "Understand how review lengths vary by sentiment (positive/negative). Investigate whether longer reviews tend to be more positive or negative.\n",
    "1. Group the reviews by sentiment (positive, negative).\n",
    "2. Calculate the average, minimum and maximum review length for each sentiment.\n",
    "3. Compare the distribution of review lengths between positive and negative reviews.\n",
    "\n",
    "**Hints**:\n",
    "* Use `.groupby()` to group the data by sentiment (see [documentation](https://pandas.pydata.org/docs/reference/api/pandas.DataFrame.groupby.html)).\n",
    "* Calculate the mean length using `.mean()` and the maximum/minimum lengths with `.agg(['max', 'min'])` (see [documentation](https://pandas.pydata.org/docs/reference/api/pandas.DataFrame.agg.html)).\n",
    "* To compare distributions, you can use `.describe()` to summarize the statistics for each group (see [documentation](https://pandas.pydata.org/docs/reference/api/pandas.DataFrame.describe.html))."
   ]
  },
  {
   "cell_type": "code",
   "execution_count": null,
   "id": "1bd51b6b",
   "metadata": {},
   "outputs": [],
   "source": [
    "# TODO: Your implementation here\n"
   ]
  }
 ],
 "metadata": {
  "kernelspec": {
   "display_name": ".venv",
   "language": "python",
   "name": "python3"
  },
  "language_info": {
   "codemirror_mode": {
    "name": "ipython",
    "version": 3
   },
   "file_extension": ".py",
   "mimetype": "text/x-python",
   "name": "python",
   "nbconvert_exporter": "python",
   "pygments_lexer": "ipython3",
   "version": "3.13.1"
  }
 },
 "nbformat": 4,
 "nbformat_minor": 5
}

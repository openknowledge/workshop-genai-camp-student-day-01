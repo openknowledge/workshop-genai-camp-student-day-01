{
 "cells": [
  {
   "cell_type": "markdown",
   "id": "42788ab2",
   "metadata": {},
   "source": [
    "# GenAI-Camp: Day 01\n",
    "## Lesson: Data Understanding with Pandas\n",
    "\n",
    "This lesson is intended to show you the basics of data understanding using *pandas*.\n",
    "\n",
    "During this lesson you will learn how to ...\n",
    "\n",
    "- read tabular data\n",
    "- explore descriptive statistics\n",
    "- do simple data manipulation"
   ]
  },
  {
   "cell_type": "markdown",
   "id": "0d15a4ba",
   "metadata": {},
   "source": [
    "### Set up the environment\n",
    "Import the necessary libraries, set constants, and define helper functions."
   ]
  },
  {
   "cell_type": "code",
   "execution_count": null,
   "id": "7c4b38d1",
   "metadata": {},
   "outputs": [],
   "source": [
    "# Import necessary libraries\n",
    "import pandas as pd\n",
    "import numpy as np\n",
    "import os"
   ]
  },
  {
   "cell_type": "code",
   "execution_count": null,
   "id": "7f0febc6",
   "metadata": {},
   "outputs": [],
   "source": [
    "# Check runtime environment to make sure we are running in a colab environment. \n",
    "if os.getenv(\"COLAB_RELEASE_TAG\"):\n",
    "   COLAB = True\n",
    "   print(\"Running on COLAB environment.\") \n",
    "else:\n",
    "   COLAB = False\n",
    "   print(\"WARNING: Running on LOCAL environment.\")"
   ]
  },
  {
   "cell_type": "code",
   "execution_count": null,
   "id": "26dceb59",
   "metadata": {},
   "outputs": [],
   "source": [
    "# Define path of ressources\n",
    "if COLAB:\n",
    "    # Clone the data repository into colab\n",
    "    !git clone https://github.com/openknowledge/workshop-genai-camp-data.git\n",
    "    DATA_PATH = \"/content/workshop-genai-camp-data/day-01/data\"\n",
    "else:\n",
    "    DATA_PATH = \"../data\"\n",
    "IMDB_FILE = DATA_PATH + \"/imdb_dataset.csv\""
   ]
  },
  {
   "cell_type": "markdown",
   "id": "b4c9a5e4",
   "metadata": {},
   "source": [
    "### Introduction: [Pandas](https://pandas.pydata.org/docs/)"
   ]
  },
  {
   "cell_type": "code",
   "execution_count": 51,
   "id": "b0fd5752",
   "metadata": {},
   "outputs": [
    {
     "data": {
      "text/html": [
       "<div>\n",
       "<style scoped>\n",
       "    .dataframe tbody tr th:only-of-type {\n",
       "        vertical-align: middle;\n",
       "    }\n",
       "\n",
       "    .dataframe tbody tr th {\n",
       "        vertical-align: top;\n",
       "    }\n",
       "\n",
       "    .dataframe thead th {\n",
       "        text-align: right;\n",
       "    }\n",
       "</style>\n",
       "<table border=\"1\" class=\"dataframe\">\n",
       "  <thead>\n",
       "    <tr style=\"text-align: right;\">\n",
       "      <th></th>\n",
       "      <th>Movie</th>\n",
       "      <th>Year</th>\n",
       "      <th>Rating</th>\n",
       "    </tr>\n",
       "  </thead>\n",
       "  <tbody>\n",
       "    <tr>\n",
       "      <th>0</th>\n",
       "      <td>Inception</td>\n",
       "      <td>2010</td>\n",
       "      <td>8.8</td>\n",
       "    </tr>\n",
       "    <tr>\n",
       "      <th>1</th>\n",
       "      <td>The Dark Knight</td>\n",
       "      <td>2008</td>\n",
       "      <td>9.0</td>\n",
       "    </tr>\n",
       "    <tr>\n",
       "      <th>2</th>\n",
       "      <td>Interstellar</td>\n",
       "      <td>2014</td>\n",
       "      <td>8.6</td>\n",
       "    </tr>\n",
       "    <tr>\n",
       "      <th>3</th>\n",
       "      <td>Dunkirk</td>\n",
       "      <td>2017</td>\n",
       "      <td>7.9</td>\n",
       "    </tr>\n",
       "    <tr>\n",
       "      <th>4</th>\n",
       "      <td>Greatest Showman</td>\n",
       "      <td>2017</td>\n",
       "      <td>7.5</td>\n",
       "    </tr>\n",
       "  </tbody>\n",
       "</table>\n",
       "</div>"
      ],
      "text/plain": [
       "              Movie  Year  Rating\n",
       "0         Inception  2010     8.8\n",
       "1   The Dark Knight  2008     9.0\n",
       "2      Interstellar  2014     8.6\n",
       "3           Dunkirk  2017     7.9\n",
       "4  Greatest Showman  2017     7.5"
      ]
     },
     "execution_count": 51,
     "metadata": {},
     "output_type": "execute_result"
    }
   ],
   "source": [
    "# Create a sample dataframe for demonstration\n",
    "data = {\n",
    "    'Movie': ['Inception', 'The Dark Knight', 'Interstellar', 'Dunkirk', 'Greatest Showman'],\n",
    "    'Year': [2010, 2008, 2014, 2017, 2017],\n",
    "    'Rating': [8.8, 9.0, 8.6, 7.9, 7.5]\n",
    "}\n",
    "\n",
    "# Load the sample data into a pandas DataFrame\n",
    "df_introduction = pd.DataFrame(data)\n",
    "df_introduction"
   ]
  },
  {
   "cell_type": "code",
   "execution_count": 52,
   "id": "3003ba09",
   "metadata": {},
   "outputs": [
    {
     "data": {
      "text/plain": [
       "pandas.core.series.Series"
      ]
     },
     "execution_count": 52,
     "metadata": {},
     "output_type": "execute_result"
    }
   ],
   "source": [
    "# A column of a dataframe is called Series\n",
    "type(df_introduction['Movie'])"
   ]
  },
  {
   "cell_type": "code",
   "execution_count": 53,
   "id": "b604911f",
   "metadata": {},
   "outputs": [
    {
     "data": {
      "text/plain": [
       "0           Inception\n",
       "1     The Dark Knight\n",
       "2        Interstellar\n",
       "3             Dunkirk\n",
       "4    Greatest Showman\n",
       "Name: Movie, dtype: object"
      ]
     },
     "execution_count": 53,
     "metadata": {},
     "output_type": "execute_result"
    }
   ],
   "source": [
    "# Accessing a column in a dataframe returns the Series\n",
    "df_introduction['Movie']"
   ]
  },
  {
   "cell_type": "code",
   "execution_count": 54,
   "id": "aa26ec40",
   "metadata": {},
   "outputs": [
    {
     "data": {
      "text/html": [
       "<div>\n",
       "<style scoped>\n",
       "    .dataframe tbody tr th:only-of-type {\n",
       "        vertical-align: middle;\n",
       "    }\n",
       "\n",
       "    .dataframe tbody tr th {\n",
       "        vertical-align: top;\n",
       "    }\n",
       "\n",
       "    .dataframe thead th {\n",
       "        text-align: right;\n",
       "    }\n",
       "</style>\n",
       "<table border=\"1\" class=\"dataframe\">\n",
       "  <thead>\n",
       "    <tr style=\"text-align: right;\">\n",
       "      <th></th>\n",
       "      <th>Movie</th>\n",
       "      <th>Year</th>\n",
       "      <th>Rating</th>\n",
       "    </tr>\n",
       "  </thead>\n",
       "  <tbody>\n",
       "    <tr>\n",
       "      <th>0</th>\n",
       "      <td>Inception</td>\n",
       "      <td>2010</td>\n",
       "      <td>8.8</td>\n",
       "    </tr>\n",
       "    <tr>\n",
       "      <th>1</th>\n",
       "      <td>The Dark Knight</td>\n",
       "      <td>2008</td>\n",
       "      <td>9.0</td>\n",
       "    </tr>\n",
       "    <tr>\n",
       "      <th>2</th>\n",
       "      <td>Interstellar</td>\n",
       "      <td>2014</td>\n",
       "      <td>8.6</td>\n",
       "    </tr>\n",
       "  </tbody>\n",
       "</table>\n",
       "</div>"
      ],
      "text/plain": [
       "             Movie  Year  Rating\n",
       "0        Inception  2010     8.8\n",
       "1  The Dark Knight  2008     9.0\n",
       "2     Interstellar  2014     8.6"
      ]
     },
     "execution_count": 54,
     "metadata": {},
     "output_type": "execute_result"
    }
   ],
   "source": [
    "# Filter the dataset to include only movies with a rating of 8.0 or higher\n",
    "high_rated_movies = df_introduction[df_introduction['Rating'] >= 8.0]\n",
    "high_rated_movies"
   ]
  },
  {
   "cell_type": "code",
   "execution_count": 55,
   "id": "96ad315e",
   "metadata": {},
   "outputs": [
    {
     "data": {
      "text/html": [
       "<div>\n",
       "<style scoped>\n",
       "    .dataframe tbody tr th:only-of-type {\n",
       "        vertical-align: middle;\n",
       "    }\n",
       "\n",
       "    .dataframe tbody tr th {\n",
       "        vertical-align: top;\n",
       "    }\n",
       "\n",
       "    .dataframe thead th {\n",
       "        text-align: right;\n",
       "    }\n",
       "</style>\n",
       "<table border=\"1\" class=\"dataframe\">\n",
       "  <thead>\n",
       "    <tr style=\"text-align: right;\">\n",
       "      <th></th>\n",
       "      <th>Movie</th>\n",
       "      <th>Year</th>\n",
       "      <th>Rating</th>\n",
       "      <th>Decade</th>\n",
       "    </tr>\n",
       "  </thead>\n",
       "  <tbody>\n",
       "    <tr>\n",
       "      <th>0</th>\n",
       "      <td>Inception</td>\n",
       "      <td>2010</td>\n",
       "      <td>8.8</td>\n",
       "      <td>2010</td>\n",
       "    </tr>\n",
       "    <tr>\n",
       "      <th>1</th>\n",
       "      <td>The Dark Knight</td>\n",
       "      <td>2008</td>\n",
       "      <td>9.0</td>\n",
       "      <td>2000</td>\n",
       "    </tr>\n",
       "    <tr>\n",
       "      <th>2</th>\n",
       "      <td>Interstellar</td>\n",
       "      <td>2014</td>\n",
       "      <td>8.6</td>\n",
       "      <td>2010</td>\n",
       "    </tr>\n",
       "    <tr>\n",
       "      <th>3</th>\n",
       "      <td>Dunkirk</td>\n",
       "      <td>2017</td>\n",
       "      <td>7.9</td>\n",
       "      <td>2010</td>\n",
       "    </tr>\n",
       "    <tr>\n",
       "      <th>4</th>\n",
       "      <td>Greatest Showman</td>\n",
       "      <td>2017</td>\n",
       "      <td>7.5</td>\n",
       "      <td>2010</td>\n",
       "    </tr>\n",
       "  </tbody>\n",
       "</table>\n",
       "</div>"
      ],
      "text/plain": [
       "              Movie  Year  Rating  Decade\n",
       "0         Inception  2010     8.8    2010\n",
       "1   The Dark Knight  2008     9.0    2000\n",
       "2      Interstellar  2014     8.6    2010\n",
       "3           Dunkirk  2017     7.9    2010\n",
       "4  Greatest Showman  2017     7.5    2010"
      ]
     },
     "execution_count": 55,
     "metadata": {},
     "output_type": "execute_result"
    }
   ],
   "source": [
    "# Create a new column 'Decade' based on the 'Year' column\n",
    "df_introduction['Decade'] = (df_introduction['Year'] // 10) * 10\n",
    "df_introduction"
   ]
  },
  {
   "cell_type": "code",
   "execution_count": 56,
   "id": "1adbf627",
   "metadata": {},
   "outputs": [
    {
     "data": {
      "text/plain": [
       "'The Dark Knight'"
      ]
     },
     "execution_count": 56,
     "metadata": {},
     "output_type": "execute_result"
    }
   ],
   "source": [
    "# Get the movie title with the highest rating\n",
    "highest_rated_movie = df_introduction.loc[df_introduction['Rating'].idxmax(), 'Movie']\n",
    "highest_rated_movie"
   ]
  },
  {
   "cell_type": "markdown",
   "id": "829c59e7",
   "metadata": {},
   "source": [
    "### IMDB Dataset of Movie Reviews with Sentiments\n",
    "The IMDB Dataset is a popular dataset used for natural language processing (NLP) and machine learning tasks, particularly for binary sentiment classification (positive/negative). It contains a large collection of movie reviews from the Internet Movie Database (IMDB), labeled according to their sentiment."
   ]
  },
  {
   "cell_type": "code",
   "execution_count": 74,
   "id": "b2902d57",
   "metadata": {},
   "outputs": [
    {
     "data": {
      "text/html": [
       "<div>\n",
       "<style scoped>\n",
       "    .dataframe tbody tr th:only-of-type {\n",
       "        vertical-align: middle;\n",
       "    }\n",
       "\n",
       "    .dataframe tbody tr th {\n",
       "        vertical-align: top;\n",
       "    }\n",
       "\n",
       "    .dataframe thead th {\n",
       "        text-align: right;\n",
       "    }\n",
       "</style>\n",
       "<table border=\"1\" class=\"dataframe\">\n",
       "  <thead>\n",
       "    <tr style=\"text-align: right;\">\n",
       "      <th></th>\n",
       "      <th>text</th>\n",
       "      <th>label</th>\n",
       "      <th>year</th>\n",
       "    </tr>\n",
       "  </thead>\n",
       "  <tbody>\n",
       "    <tr>\n",
       "      <th>0</th>\n",
       "      <td>I grew up (b. 1965) watching and loving the Th...</td>\n",
       "      <td>0</td>\n",
       "      <td>2015</td>\n",
       "    </tr>\n",
       "    <tr>\n",
       "      <th>1</th>\n",
       "      <td>When I put this movie in my DVD player, and sa...</td>\n",
       "      <td>0</td>\n",
       "      <td>2022</td>\n",
       "    </tr>\n",
       "    <tr>\n",
       "      <th>2</th>\n",
       "      <td>Why do people who do not know what a particula...</td>\n",
       "      <td>0</td>\n",
       "      <td>2015</td>\n",
       "    </tr>\n",
       "    <tr>\n",
       "      <th>3</th>\n",
       "      <td>Even though I have great interest in Biblical ...</td>\n",
       "      <td>0</td>\n",
       "      <td>2021</td>\n",
       "    </tr>\n",
       "    <tr>\n",
       "      <th>4</th>\n",
       "      <td>Im a die hard Dads Army fan and nothing will e...</td>\n",
       "      <td>1</td>\n",
       "      <td>2021</td>\n",
       "    </tr>\n",
       "    <tr>\n",
       "      <th>...</th>\n",
       "      <td>...</td>\n",
       "      <td>...</td>\n",
       "      <td>...</td>\n",
       "    </tr>\n",
       "    <tr>\n",
       "      <th>39995</th>\n",
       "      <td>\"Western Union\" is something of a forgotten cl...</td>\n",
       "      <td>1</td>\n",
       "      <td>2018</td>\n",
       "    </tr>\n",
       "    <tr>\n",
       "      <th>39996</th>\n",
       "      <td>This movie is an incredible piece of work. It ...</td>\n",
       "      <td>1</td>\n",
       "      <td>2021</td>\n",
       "    </tr>\n",
       "    <tr>\n",
       "      <th>39997</th>\n",
       "      <td>My wife and I watched this movie because we pl...</td>\n",
       "      <td>0</td>\n",
       "      <td>2023</td>\n",
       "    </tr>\n",
       "    <tr>\n",
       "      <th>39998</th>\n",
       "      <td>When I first watched Flatliners, I was amazed....</td>\n",
       "      <td>1</td>\n",
       "      <td>2018</td>\n",
       "    </tr>\n",
       "    <tr>\n",
       "      <th>39999</th>\n",
       "      <td>Why would this film be so good, but only gross...</td>\n",
       "      <td>1</td>\n",
       "      <td>2016</td>\n",
       "    </tr>\n",
       "  </tbody>\n",
       "</table>\n",
       "<p>40000 rows × 3 columns</p>\n",
       "</div>"
      ],
      "text/plain": [
       "                                                    text  label  year\n",
       "0      I grew up (b. 1965) watching and loving the Th...      0  2015\n",
       "1      When I put this movie in my DVD player, and sa...      0  2022\n",
       "2      Why do people who do not know what a particula...      0  2015\n",
       "3      Even though I have great interest in Biblical ...      0  2021\n",
       "4      Im a die hard Dads Army fan and nothing will e...      1  2021\n",
       "...                                                  ...    ...   ...\n",
       "39995  \"Western Union\" is something of a forgotten cl...      1  2018\n",
       "39996  This movie is an incredible piece of work. It ...      1  2021\n",
       "39997  My wife and I watched this movie because we pl...      0  2023\n",
       "39998  When I first watched Flatliners, I was amazed....      1  2018\n",
       "39999  Why would this film be so good, but only gross...      1  2016\n",
       "\n",
       "[40000 rows x 3 columns]"
      ]
     },
     "execution_count": 74,
     "metadata": {},
     "output_type": "execute_result"
    }
   ],
   "source": [
    "# Load the IMDB dataset\n",
    "df = pd.read_csv(IMDB_FILE)\n",
    "df"
   ]
  },
  {
   "cell_type": "markdown",
   "id": "18a272cf",
   "metadata": {},
   "source": [
    "### Exercise 01: Data Inspection and Initial Understanding\n",
    "Understand the structure and contents of the IMDB dataset. Inspect the data types, check for missing values, and analyze the distribution of labels (positive/negative reviews).\n",
    "1. Display the first 5 rows and last 5 rows of the dataset.\n",
    "2. Check the column names, data types, and the number of missing values for each column.\n",
    "3. Count the number of positive and negative reviews.\n",
    "\n",
    "**Hints**:\n",
    "* Use `.head()` and `.tail()` to inspect the rows of a dataframe (see [documentation](https://pandas.pydata.org/docs/reference/api/pandas.DataFrame.head.html)).\n",
    "* `.info()` will give you the column names and data types (see [documentation](https://pandas.pydata.org/docs/reference/api/pandas.DataFrame.info.html)).\n",
    "* `.isna().sum()` will tell you if there are any missing values in the dataset (see [documentation](https://pandas.pydata.org/docs/reference/api/pandas.DataFrame.isna.html)).\n",
    "* Use `.value_counts()` to count the distribution of positive and negative labels (see [documentation](https://pandas.pydata.org/docs/reference/api/pandas.Series.value_counts.html)).\n"
   ]
  },
  {
   "cell_type": "code",
   "execution_count": 59,
   "id": "ca0f1310",
   "metadata": {},
   "outputs": [],
   "source": [
    "# TODO: Your implementation"
   ]
  },
  {
   "cell_type": "markdown",
   "id": "7c2dae80",
   "metadata": {},
   "source": [
    "### Exercise 02: Show examples\n",
    "Print out some examples for positive and negative reviews.\n",
    "1. Print out 5 random reviews which have the label \"0\"\n",
    "2. Print out 5 random reviews which have the label \"1\"\n",
    "\n",
    "**Hints**:\n",
    "* Use `.sample()` on the filtered dataframe (see [documentation](https://pandas.pydata.org/docs/reference/api/pandas.DataFrame.sample.html)).\n",
    "* You can create a python list from the samples by using `to_list()`\n",
    "* Iterate over this list and print the elements"
   ]
  },
  {
   "cell_type": "code",
   "execution_count": 60,
   "id": "14c74240",
   "metadata": {},
   "outputs": [],
   "source": [
    "# Filter the dataframe by the 'label' column\n",
    "filtered_label_0_reviews = df[df['label'] == 0]\n",
    "filtered_label_1_reviews = df[df['label'] == 1]\n",
    "\n",
    "# TODO: Your implementation"
   ]
  },
  {
   "cell_type": "markdown",
   "id": "12c77d60",
   "metadata": {},
   "source": [
    "### Exercise 03: Minor data manipulation\n",
    "Rename columns and values of the given dataframe.\n",
    "\n",
    "1. Rename the column \"label\" to \"sentiment\"\n",
    "2. Rename the column \"text\" to \"review\"\n",
    "3. Rename values in column \"sentiment\" to \"positive\" and \"negative\"\n",
    "4. Print the dataframe\n",
    "\n",
    "**Hints**:\n",
    "* Use `.rename()` for renaming columns (see [documentation](https://pandas.pydata.org/docs/reference/api/pandas.DataFrame.rename.html))\n",
    "* Use `.map()` for updating values of a column (see [documentation](https://pandas.pydata.org/docs/reference/api/pandas.Series.map.html))"
   ]
  },
  {
   "cell_type": "code",
   "execution_count": 62,
   "id": "8f11d117",
   "metadata": {},
   "outputs": [],
   "source": [
    "# TODO: Your implementation"
   ]
  },
  {
   "cell_type": "markdown",
   "id": "a11a1af5",
   "metadata": {},
   "source": [
    "### Exercise 04: Summary Statistics on Review Lengths\n",
    "Analyze the length of the movie reviews in terms of character count. Calculate key summary statistics for the review lengths, including the average, maximum, and minimum lengths.\n",
    "1. Add a new column called review_length that stores the length of each review (in characters).\n",
    "2. Calculate the average, maximum, and minimum review lengths.\n",
    "3. Find the median and standard deviation of the review lengths.\n",
    "4. Find the longest and shortest reviews in the dataset.\n",
    "\n",
    "**Hints**:\n",
    "* Use `.apply(len)` to create the review_length column  (see [documentation](https://pandas.pydata.org/docs/reference/api/pandas.DataFrame.apply.html)).\n",
    "* Use `.mean()`, `.max()`, `.min()`, `.median()`, and `.std()` to get the desired statistics (see [documentation](https://pandas.pydata.org/docs/reference/api/pandas.DataFrame.mean.html)).\n",
    "* To find the longest and shortest reviews, you can use `.idxmax()` and `.idxmin()` on the review_length column (see [documentation](https://pandas.pydata.org/docs/reference/api/pandas.DataFrame.idxmax.html)).\n"
   ]
  },
  {
   "cell_type": "code",
   "execution_count": 64,
   "id": "e19e1d8f",
   "metadata": {},
   "outputs": [],
   "source": [
    "# TODO: Your implementation"
   ]
  },
  {
   "cell_type": "markdown",
   "id": "a34a5ad7",
   "metadata": {},
   "source": [
    "### Exercise 05: Sentiment Distribution by length of review\n",
    "Understand how review lengths vary by sentiment (positive/negative). Investigate whether longer reviews tend to be more positive or negative.\n",
    "1. Group the reviews by sentiment (positive, negative).\n",
    "2. Calculate the average, minimum and maximum review length for each sentiment.\n",
    "3. Compare the distribution of review lengths between positive and negative reviews.\n",
    "\n",
    "**Hints**:\n",
    "* Use `.groupby()` to group the data by sentiment (see [documentation](https://pandas.pydata.org/docs/reference/api/pandas.DataFrame.groupby.html)).\n",
    "* Calculate the mean length using `.mean()` and the maximum/minimum lengths with `.agg(['max', 'min'])` (see [documentation](https://pandas.pydata.org/docs/reference/api/pandas.DataFrame.agg.html)).\n",
    "* To compare distributions, you can use `.describe()` to summarize the statistics for each group (see [documentation](https://pandas.pydata.org/docs/reference/api/pandas.DataFrame.describe.html))."
   ]
  },
  {
   "cell_type": "code",
   "execution_count": null,
   "id": "1bd51b6b",
   "metadata": {},
   "outputs": [],
   "source": [
    "# TODO: Your implementation here\n"
   ]
  }
 ],
 "metadata": {
  "kernelspec": {
   "display_name": ".venv",
   "language": "python",
   "name": "python3"
  },
  "language_info": {
   "codemirror_mode": {
    "name": "ipython",
    "version": 3
   },
   "file_extension": ".py",
   "mimetype": "text/x-python",
   "name": "python",
   "nbconvert_exporter": "python",
   "pygments_lexer": "ipython3",
   "version": "3.13.1"
  }
 },
 "nbformat": 4,
 "nbformat_minor": 5
}

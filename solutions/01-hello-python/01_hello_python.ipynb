{
 "cells": [
  {
   "cell_type": "markdown",
   "id": "8ebc18ac",
   "metadata": {},
   "source": [
    "# GenAI-Camp: Day 01\n",
    "## Lesson: Hello Python\n",
    "\n",
    "This lesson is intended to show you the basics of python. \n",
    "\n",
    "During this lesson you will learn about ...\n",
    "\n",
    "- the zen of python\n",
    "- basic types\n",
    "- functions\n",
    "- if-else-statements, for-loops"
   ]
  },
  {
   "cell_type": "markdown",
   "id": "eae715d0",
   "metadata": {},
   "source": [
    "### Introduction\n",
    "Every exercise notebook has the same structure.\n",
    "1. Short description about the topic and goals of this exercise\n",
    "2. Setup environment and optionally load convenient functions\n",
    "3. Introduction to new functions or libraries\n",
    "4. Exercises  \n",
    "\n",
    "In this section, we will give you an introduction to python basics."
   ]
  },
  {
   "cell_type": "code",
   "execution_count": null,
   "id": "0a4d0c8e",
   "metadata": {},
   "outputs": [],
   "source": [
    "# Starting with the Zen of Python\n",
    "import this"
   ]
  },
  {
   "cell_type": "markdown",
   "id": "e7121f86",
   "metadata": {},
   "source": [
    "#### [Strings](https://docs.python.org/3/library/stdtypes.html#text-sequence-type-str)\n",
    "For more information on python strings see [RealPython](https://realpython.com/python-strings/)"
   ]
  },
  {
   "cell_type": "code",
   "execution_count": null,
   "id": "be47335e",
   "metadata": {},
   "outputs": [],
   "source": [
    "# Define a string variable\n",
    "my_string = \"Python is my favorite programming language!\"\n",
    "my_string"
   ]
  },
  {
   "cell_type": "code",
   "execution_count": null,
   "id": "56385bd6",
   "metadata": {},
   "outputs": [],
   "source": [
    "# Print the type of the variable\n",
    "type(my_string)"
   ]
  },
  {
   "cell_type": "code",
   "execution_count": null,
   "id": "a70fcf6b",
   "metadata": {},
   "outputs": [],
   "source": [
    "# Print the length of the string\n",
    "len(my_string)"
   ]
  },
  {
   "cell_type": "code",
   "execution_count": null,
   "id": "99e241b8",
   "metadata": {},
   "outputs": [],
   "source": [
    "### Respecting [PEP8](https://www.python.org/dev/peps/pep-0008/#maximum-line-length) with long strings\n",
    "long_story = (\n",
    "    \"Lorem ipsum dolor sit amet, consectetur adipiscing elit.\"\n",
    "    \"Pellentesque eget tincidunt felis. Ut ac vestibulum est.\"\n",
    "    \"In sed ipsum sit amet sapien scelerisque bibendum. Sed \"\n",
    "    \"sagittis purus eu diam fermentum pellentesque.\"\n",
    ")\n",
    "long_story"
   ]
  },
  {
   "cell_type": "code",
   "execution_count": null,
   "id": "ec7e27a6",
   "metadata": {},
   "outputs": [],
   "source": [
    "# str.replace()\n",
    "# If you don't know how it works, you can always check the `help`:\n",
    "help(str.replace)"
   ]
  },
  {
   "cell_type": "code",
   "execution_count": null,
   "id": "83e7907b",
   "metadata": {},
   "outputs": [],
   "source": [
    "# Another way to get help\n",
    "str.replace?"
   ]
  },
  {
   "cell_type": "code",
   "execution_count": null,
   "id": "c8ed1ba7",
   "metadata": {},
   "outputs": [],
   "source": [
    "# This will not modify `my_string` because replace is not done in-place.\n",
    "my_string.replace(\"a\", \"?\")\n",
    "print(my_string)"
   ]
  },
  {
   "cell_type": "code",
   "execution_count": null,
   "id": "d0c829bb",
   "metadata": {},
   "outputs": [],
   "source": [
    "# You have to store the return value of `replace` instead.\n",
    "my_modified_string = my_string.replace(\"is\", \"will be\")\n",
    "print(my_modified_string)"
   ]
  },
  {
   "cell_type": "code",
   "execution_count": null,
   "id": "92212aaf",
   "metadata": {},
   "outputs": [],
   "source": [
    "# f-strings\n",
    "first_name = \"John\"\n",
    "last_name = \"Doe\"\n",
    "age = 88\n",
    "print(f\"My name is {first_name} {last_name}, you can call me {first_name}.\")\n",
    "print(f\"I'm {age} years old.\")"
   ]
  },
  {
   "cell_type": "code",
   "execution_count": null,
   "id": "c2178714",
   "metadata": {},
   "outputs": [],
   "source": [
    "print(f\"Use '=' to also print the variable name like this: {age=}\")"
   ]
  },
  {
   "cell_type": "code",
   "execution_count": null,
   "id": "abab2eb8",
   "metadata": {},
   "outputs": [],
   "source": [
    "# str.join()\n",
    "pandas = \"pandas\"\n",
    "numpy = \"numpy\"\n",
    "requests = \"requests\"\n",
    "cool_python_libs = \", \".join([pandas, numpy, requests])\n",
    "print(f\"Some cool python libraries: {cool_python_libs}\")"
   ]
  },
  {
   "cell_type": "code",
   "execution_count": null,
   "id": "c6bb717a",
   "metadata": {},
   "outputs": [],
   "source": [
    "# Alternative (not as [Pythonic](http://docs.python-guide.org/en/latest/writing/style/#idioms) and slower            \n",
    "cool_python_libs = pandas + \", \" + numpy + \", \" + requests\n",
    "print(f\"Some cool python libraries: {cool_python_libs}\")\n",
    "\n",
    "cool_python_libs = pandas\n",
    "cool_python_libs += \", \" + numpy\n",
    "cool_python_libs += \", \" + requests\n",
    "print(f\"Some cool python libraries: {cool_python_libs}\")"
   ]
  },
  {
   "cell_type": "code",
   "execution_count": null,
   "id": "dfa578cc",
   "metadata": {},
   "outputs": [],
   "source": [
    "# str.upper(), str.lower(), str.title()\n",
    "mixed_case = \"PyTHoN hackER\"\n",
    "\n",
    "print(f\"upper: {mixed_case.upper()}\")\n",
    "print(f\"lower: {mixed_case.lower()}\")\n",
    "print(f\"title: {mixed_case.title()}\")"
   ]
  },
  {
   "cell_type": "code",
   "execution_count": null,
   "id": "6c51a145",
   "metadata": {},
   "outputs": [],
   "source": [
    "# str.strip()\n",
    "ugly_formatted = \" \\n \\t Some story to tell \"\n",
    "stripped = ugly_formatted.strip()\n",
    "\n",
    "print(f\"ugly: {ugly_formatted}\")\n",
    "print(f\"stripped: {stripped}\")"
   ]
  },
  {
   "cell_type": "code",
   "execution_count": null,
   "id": "b2ba2aa4",
   "metadata": {},
   "outputs": [],
   "source": [
    "# str.split()\n",
    "sentence = \"three different words\"\n",
    "words = sentence.split()\n",
    "print(words)"
   ]
  },
  {
   "cell_type": "code",
   "execution_count": null,
   "id": "ea6e9c6d",
   "metadata": {},
   "outputs": [],
   "source": [
    "# Calling multiple methods in a row\n",
    "ugly_mixed_case = \"   ThIS LooKs BAd \"\n",
    "pretty = ugly_mixed_case.strip().lower().replace(\"bad\", \"good\")\n",
    "print(pretty)"
   ]
  },
  {
   "cell_type": "code",
   "execution_count": null,
   "id": "d1f181ec",
   "metadata": {},
   "outputs": [],
   "source": [
    "# Note that execution order is from left to right. Thus, this won't work:\n",
    "pretty = ugly_mixed_case.replace(\"bad\", \"good\").strip().lower()\n",
    "print(pretty)"
   ]
  },
  {
   "cell_type": "markdown",
   "id": "3e731f72",
   "metadata": {},
   "source": [
    "#### [Numbers](https://docs.python.org/3/library/stdtypes.html#numeric-types-int-float-complex)\n",
    "For more information on python numbers see [RealPython](https://realpython.com/python-numbers/)"
   ]
  },
  {
   "cell_type": "code",
   "execution_count": null,
   "id": "5e8dad5c",
   "metadata": {},
   "outputs": [],
   "source": [
    "# int\n",
    "my_int = 6\n",
    "print(f\"value: {my_int}, type: {type(my_int)}\")"
   ]
  },
  {
   "cell_type": "code",
   "execution_count": null,
   "id": "fe528f80",
   "metadata": {},
   "outputs": [],
   "source": [
    "# float\n",
    "my_float = float(my_int)\n",
    "print(f\"value: {my_float}, type: {type(my_float)}\")"
   ]
  },
  {
   "cell_type": "code",
   "execution_count": null,
   "id": "f334013a",
   "metadata": {},
   "outputs": [],
   "source": [
    "# Note that division of ints produces float:\n",
    "print(1 / 1)\n",
    "print(6 / 5)"
   ]
  },
  {
   "cell_type": "code",
   "execution_count": null,
   "id": "3d298d73",
   "metadata": {},
   "outputs": [],
   "source": [
    "# Floor division `//`, modulus `%`, power `**`\n",
    "7 // 5"
   ]
  },
  {
   "cell_type": "code",
   "execution_count": null,
   "id": "eccf438e",
   "metadata": {},
   "outputs": [],
   "source": [
    "# Modulus\n",
    "7 % 5"
   ]
  },
  {
   "cell_type": "code",
   "execution_count": null,
   "id": "f5c6cfba",
   "metadata": {},
   "outputs": [],
   "source": [
    "# Power\n",
    "7 ** 5"
   ]
  },
  {
   "cell_type": "markdown",
   "id": "3ca88b18",
   "metadata": {},
   "source": [
    "#### Conditionals\n",
    "See [RealPython](https://realpython.com/python-conditional-statements/) for more details."
   ]
  },
  {
   "cell_type": "code",
   "execution_count": null,
   "id": "8d519976",
   "metadata": {},
   "outputs": [],
   "source": [
    "print(f\"type of True and False: {type(True)}\")"
   ]
  },
  {
   "cell_type": "code",
   "execution_count": null,
   "id": "018dfd63",
   "metadata": {},
   "outputs": [],
   "source": [
    "print(f\"0: {bool(0)}, 1: {bool(1)}\")\n",
    "print(f\"empty list: {bool([])}, list with values: {bool(['woop'])}\")\n",
    "print(f\"empty dict: {bool({})}, dict with values: {bool({'Python': 'cool'})}\")"
   ]
  },
  {
   "cell_type": "code",
   "execution_count": null,
   "id": "aae786b4",
   "metadata": {},
   "outputs": [],
   "source": [
    "print(f\"{1 == 0}\")\n",
    "print(f\"{1 != 0}\")\n",
    "print(f\"{1 > 0}\")\n",
    "print(f\"{1 > 1}\")\n",
    "print(f\"{1 < 0}\")\n",
    "print(f\"{1 < 1}\")\n",
    "print(f\"{1 >= 0}\")\n",
    "print(f\"{1 >= 1}\")\n",
    "print(f\"{1 <= 0}\")\n",
    "print(f\"{1 <= 1}\")"
   ]
  },
  {
   "cell_type": "code",
   "execution_count": null,
   "id": "661e5a8c",
   "metadata": {},
   "outputs": [],
   "source": [
    "# You can combine these:\n",
    "print(f\"{1 <= 1 <= 3}\")"
   ]
  },
  {
   "cell_type": "code",
   "execution_count": null,
   "id": "c6a254ba",
   "metadata": {},
   "outputs": [],
   "source": [
    "# and, or, not\n",
    "python_is_cool = True\n",
    "java_is_cool = False\n",
    "empty_list = []\n",
    "secret_value = 3.14"
   ]
  },
  {
   "cell_type": "code",
   "execution_count": null,
   "id": "76d8e6d0",
   "metadata": {},
   "outputs": [],
   "source": [
    "print(f\"Python and java are both cool: {python_is_cool and java_is_cool}\")\n",
    "print(f\"secret_value and python_is_cool: {secret_value and python_is_cool}\")"
   ]
  },
  {
   "cell_type": "code",
   "execution_count": null,
   "id": "df3a4858",
   "metadata": {},
   "outputs": [],
   "source": [
    "print(f\"Python or java is cool: {python_is_cool or java_is_cool}\")\n",
    "print(f\"{1 >= 1.1 or 2 < 1.4}\")"
   ]
  },
  {
   "cell_type": "code",
   "execution_count": null,
   "id": "c8051ca8",
   "metadata": {},
   "outputs": [],
   "source": [
    "print(f\"Java is not cool: {not java_is_cool}\")"
   ]
  },
  {
   "cell_type": "code",
   "execution_count": null,
   "id": "16a163de",
   "metadata": {},
   "outputs": [],
   "source": [
    "# You can combine multiple statements, execution order is from left to right. You can control the execution order by using brackets.\n",
    "print(bool(not java_is_cool or secret_value and python_is_cool or empty_list))\n",
    "print(bool(not (java_is_cool or secret_value and python_is_cool or empty_list)))"
   ]
  },
  {
   "cell_type": "code",
   "execution_count": null,
   "id": "56f01d25",
   "metadata": {},
   "outputs": [],
   "source": [
    "# if-statement\n",
    "statement = True\n",
    "if statement:\n",
    "    print(\"statement is True\")\n",
    "\n",
    "if not statement:\n",
    "    print(\"statement is not True\")"
   ]
  },
  {
   "cell_type": "code",
   "execution_count": null,
   "id": "477a04b0",
   "metadata": {},
   "outputs": [],
   "source": [
    "empty_list = []\n",
    "# With if and elif, conversion to `bool` is implicit\n",
    "if empty_list:\n",
    "    print(\"empty list will not evaluate to True\")  # this won't be executed"
   ]
  },
  {
   "cell_type": "code",
   "execution_count": null,
   "id": "f82141af",
   "metadata": {},
   "outputs": [],
   "source": [
    "val = 3\n",
    "if 0 <= val < 1 or val == 3:\n",
    "    print(\"Value is positive and less than one or value is three\")"
   ]
  },
  {
   "cell_type": "code",
   "execution_count": null,
   "id": "5a96008a",
   "metadata": {},
   "outputs": [],
   "source": [
    "# if-else\n",
    "my_dict = {}\n",
    "if my_dict:\n",
    "    print(\"there is something in my dict\")\n",
    "else:\n",
    "    print(\"my dict is empty :(\")"
   ]
  },
  {
   "cell_type": "code",
   "execution_count": null,
   "id": "6fa5fc80",
   "metadata": {},
   "outputs": [],
   "source": [
    "# if-elif-else\n",
    "val = 88\n",
    "if val >= 100:\n",
    "    print(\"value is equal or greater than 100\")\n",
    "elif val > 10:\n",
    "    print(\"value is greater than 10 but less than 100\")\n",
    "else:\n",
    "    print(\"value is equal or less than 10\")"
   ]
  },
  {
   "cell_type": "markdown",
   "id": "05eb8ae1",
   "metadata": {},
   "source": [
    "#### [Lists](https://docs.python.org/3/library/stdtypes.html#lists)"
   ]
  },
  {
   "cell_type": "code",
   "execution_count": null,
   "id": "a0be56e9",
   "metadata": {},
   "outputs": [],
   "source": [
    "my_empty_list = []\n",
    "print(f\"empty list: {my_empty_list}, type: {type(my_empty_list)}\")"
   ]
  },
  {
   "cell_type": "code",
   "execution_count": null,
   "id": "fc9cd308",
   "metadata": {},
   "outputs": [],
   "source": [
    "list_of_ints = [1, 2, 6, 7]\n",
    "list_of_misc = [0.2, 5, \"Python\", \"is\", \"still fun\", \"!\"]\n",
    "print(f\"lengths: {len(list_of_ints)} and {len(list_of_misc)}\")"
   ]
  },
  {
   "cell_type": "code",
   "execution_count": null,
   "id": "8eff7537",
   "metadata": {},
   "outputs": [],
   "source": [
    "# Accessing list elements\n",
    "my_list = [\"Python\", \"is\", \"still\", \"cool\"]\n",
    "print(my_list[0])\n",
    "print(my_list[3])"
   ]
  },
  {
   "cell_type": "code",
   "execution_count": null,
   "id": "7f933c96",
   "metadata": {},
   "outputs": [],
   "source": [
    "# Accessing two dimensional lists\n",
    "coordinates = [[12.0, 13.3], [0.6, 18.0], [88.0, 1.1]]  # two dimensional\n",
    "print(f\"first coordinate: {coordinates[0]}\")\n",
    "print(f\"second element of first coordinate: {coordinates[0][1]}\")"
   ]
  },
  {
   "cell_type": "code",
   "execution_count": null,
   "id": "ecb8676b",
   "metadata": {},
   "outputs": [],
   "source": [
    "# Update list elements\n",
    "my_list = [0, 1, 2, 3, 4, 5]\n",
    "my_list[0] = 99\n",
    "print(my_list)\n",
    "\n",
    "# remove first value\n",
    "del my_list[0]\n",
    "print(my_list)"
   ]
  },
  {
   "cell_type": "code",
   "execution_count": null,
   "id": "5b143e54",
   "metadata": {},
   "outputs": [],
   "source": [
    "# Checking if certain value is present in list\n",
    "languages = [\"Java\", \"C++\", \"Go\", \"Python\", \"JavaScript\"]\n",
    "if \"Python\" in languages:\n",
    "    print(\"Python is there!\")"
   ]
  },
  {
   "cell_type": "code",
   "execution_count": null,
   "id": "c7083153",
   "metadata": {},
   "outputs": [],
   "source": [
    "# Lists are mutable\n",
    "original = [1, 2, 3]\n",
    "modified = original\n",
    "modified[0] = 99\n",
    "print(f\"original: {original}, modified: {modified}\")"
   ]
  },
  {
   "cell_type": "code",
   "execution_count": null,
   "id": "e2f9fa9f",
   "metadata": {},
   "outputs": [],
   "source": [
    "# You can get around this by creating new `list`\n",
    "original = [1, 2, 3]\n",
    "modified = list(original)  # Note list()\n",
    "# Alternatively, you can use copy method\n",
    "# modified = original.copy()\n",
    "modified[0] = 99\n",
    "print(f\"original: {original}, modified: {modified}\")"
   ]
  },
  {
   "cell_type": "code",
   "execution_count": null,
   "id": "722de641",
   "metadata": {},
   "outputs": [],
   "source": [
    "# Appending to a list\n",
    "my_list = [1]\n",
    "my_list.append(\"ham\")\n",
    "print(my_list)"
   ]
  },
  {
   "cell_type": "code",
   "execution_count": null,
   "id": "ad89d8ab",
   "metadata": {},
   "outputs": [],
   "source": [
    "# Removing from a list\n",
    "my_list = [\"Python\", \"is\", \"sometimes\", \"fun\"]\n",
    "my_list.remove(\"sometimes\")\n",
    "print(my_list)"
   ]
  },
  {
   "cell_type": "code",
   "execution_count": null,
   "id": "84a0d9f1",
   "metadata": {},
   "outputs": [],
   "source": [
    "# Sort a list\n",
    "numbers = [8, 1, 6, 5, 10]\n",
    "numbers.sort()\n",
    "print(f\"numbers: {numbers}\")\n",
    "\n",
    "numbers.sort(reverse=True)\n",
    "print(f\"numbers reversed: {numbers}\")\n",
    "\n",
    "words = [\"this\", \"is\", \"a\", \"list\", \"of\", \"words\"]\n",
    "words.sort()\n",
    "print(f\"words: {words}\")"
   ]
  },
  {
   "cell_type": "code",
   "execution_count": null,
   "id": "b68ba473",
   "metadata": {},
   "outputs": [],
   "source": [
    "# Merge two lists\n",
    "first_list = [\"beef\", \"ham\"]\n",
    "second_list = [\"potatoes\", 1, 3]\n",
    "first_list.extend(second_list)\n",
    "print(f\"{first_list=}, {second_list=}\")"
   ]
  },
  {
   "cell_type": "code",
   "execution_count": null,
   "id": "408d290a",
   "metadata": {},
   "outputs": [],
   "source": [
    "# Alternatively you can also extend lists by summing them:\n",
    "first = [1, 2, 3]\n",
    "second = [4, 5]\n",
    "first += second  # same as: first = first + second\n",
    "print(f\"{first=}\")"
   ]
  },
  {
   "cell_type": "code",
   "execution_count": null,
   "id": "818278db",
   "metadata": {},
   "outputs": [],
   "source": [
    "# Reversing a list\n",
    "my_list = [\"a\", \"b\", \"ham\"]\n",
    "my_list.reverse()\n",
    "print(my_list)"
   ]
  },
  {
   "cell_type": "markdown",
   "id": "85b1200e",
   "metadata": {},
   "source": [
    "#### [Dictionaries](https://docs.python.org/3/library/stdtypes.html#dict) \n",
    "Collections of `key`-`value` pairs. "
   ]
  },
  {
   "cell_type": "code",
   "execution_count": null,
   "id": "aa3ef7d1",
   "metadata": {},
   "outputs": [],
   "source": [
    "my_empty_dict = {}  # alternative: my_empty_dict = dict()\n",
    "print(f\"dict: {my_empty_dict}, type: {type(my_empty_dict)}\")"
   ]
  },
  {
   "cell_type": "code",
   "execution_count": null,
   "id": "27f2944f",
   "metadata": {},
   "outputs": [],
   "source": [
    "# Initializing a dict with values\n",
    "dict1 = {\"value1\": 1.6, \"value2\": 10, \"name\": \"John Doe\"}\n",
    "dict2 = dict(value1=1.6, value2=10, name=\"John Doe\")\n",
    "\n",
    "print(dict1)\n",
    "print(dict2)\n",
    "\n",
    "print(f\"equals: {dict1 == dict2}\")\n",
    "print(f\"length: {len(dict1)}\")"
   ]
  },
  {
   "cell_type": "code",
   "execution_count": null,
   "id": "0d1f3da6",
   "metadata": {},
   "outputs": [],
   "source": [
    "# dict.keys(), dict.values(), dict.items()\n",
    "print(f\"keys: {dict1.keys()}\")\n",
    "print(f\"values: {dict1.values()}\")\n",
    "print(f\"items: {dict1.items()}\")"
   ]
  },
  {
   "cell_type": "code",
   "execution_count": null,
   "id": "0d430aa1",
   "metadata": {},
   "outputs": [],
   "source": [
    "# Accessing and setting dict values\n",
    "my_dict = {}\n",
    "my_dict[\"key1\"] = \"value1\"\n",
    "my_dict[\"key2\"] = 99\n",
    "my_dict[\"key1\"] = \"new value\"  # overriding existing value\n",
    "print(my_dict)\n",
    "print(f\"value of key1: {my_dict['key1']}\")"
   ]
  },
  {
   "cell_type": "code",
   "execution_count": null,
   "id": "a7e9973d",
   "metadata": {},
   "outputs": [],
   "source": [
    "# Accessing a nonexistent key will raise `KeyError` (see [`dict.get()`](#dict_get) for workaround):\n",
    "print(my_dict[\"nonexistent_key\"])"
   ]
  },
  {
   "cell_type": "code",
   "execution_count": null,
   "id": "4f1771fe",
   "metadata": {},
   "outputs": [],
   "source": [
    "# Deleting a key\n",
    "my_dict = {\"key1\": \"value1\", \"key2\": 99, \"keyX\": \"valueX\"}\n",
    "del my_dict[\"keyX\"]\n",
    "print(my_dict)\n",
    "\n",
    "# Usually better to make sure that the key exists (see also pop() and popitem())\n",
    "key_to_delete = \"my_key\"\n",
    "if key_to_delete in my_dict:\n",
    "    del my_dict[key_to_delete]\n",
    "else:\n",
    "    print(f\"{key_to_delete} is not in {my_dict}\")"
   ]
  },
  {
   "cell_type": "code",
   "execution_count": null,
   "id": "2c459b39",
   "metadata": {},
   "outputs": [],
   "source": [
    "# Dictionaries are mutable\n",
    "my_dict = {\"ham\": \"good\", \"carrot\": \"semi good\"}\n",
    "my_other_dict = my_dict\n",
    "my_other_dict[\"carrot\"] = \"super tasty\"\n",
    "my_other_dict[\"sausage\"] = \"best ever\"\n",
    "print(f\"{my_dict=}\\nother: {my_other_dict}\")\n",
    "print(f\"equals: {my_dict == my_other_dict}\")"
   ]
  },
  {
   "cell_type": "code",
   "execution_count": null,
   "id": "6c1b0633",
   "metadata": {},
   "outputs": [],
   "source": [
    "# Create a new dict if you want a copy\n",
    "my_dict = {\"ham\": \"good\", \"carrot\": \"semi good\"}\n",
    "my_other_dict = dict(my_dict)\n",
    "my_other_dict[\"beer\"] = \"decent\"\n",
    "print(f\"{my_dict=}\\nother: {my_other_dict}\")\n",
    "print(f\"equals: {my_dict == my_other_dict}\")"
   ]
  },
  {
   "cell_type": "code",
   "execution_count": null,
   "id": "0c9fd063",
   "metadata": {},
   "outputs": [],
   "source": [
    "# dict.get(): Returns `None` if `key` is not in `dict`.\n",
    "# However, you can also specify `default` return value which will be returned if `key` is not present in the `dict`.\n",
    "my_dict = {\"a\": 1, \"b\": 2, \"c\": 3}\n",
    "value_of_d = my_dict.get(\"d\")\n",
    "print(f\"d: {value_of_d}\")\n",
    "\n",
    "value_of_d = my_dict.get(\"d\", \"my default value\")\n",
    "print(f\"d: {value_of_d}\")"
   ]
  },
  {
   "cell_type": "code",
   "execution_count": null,
   "id": "3fc3e943",
   "metadata": {},
   "outputs": [],
   "source": [
    "# dict.pop(): Removes the key from the dict and returns its value.\n",
    "my_dict = dict(food=\"ham\", drink=\"beer\", sport=\"football\")\n",
    "print(f\"dict before pops: {my_dict}\")\n",
    "\n",
    "food = my_dict.pop(\"food\")\n",
    "print(f\"food: {food}\")\n",
    "print(f\"dict after popping food: {my_dict}\")\n",
    "\n",
    "food_again = my_dict.pop(\"food\", \"default value for food\")\n",
    "print(f\"food again: {food_again}\")\n",
    "print(f\"dict after popping food again: {my_dict}\")"
   ]
  },
  {
   "cell_type": "markdown",
   "id": "d64922f9",
   "metadata": {},
   "source": [
    "#### [`For` Loops](https://docs.python.org/3/tutorial/controlflow.html#for-statements)"
   ]
  },
  {
   "cell_type": "code",
   "execution_count": null,
   "id": "a971908d",
   "metadata": {},
   "outputs": [],
   "source": [
    "# Looping lists\n",
    "my_list = [1, 2, 3, 4, \"Python\", \"is\", \"neat\"]\n",
    "for item in my_list:\n",
    "    print(item)"
   ]
  },
  {
   "cell_type": "code",
   "execution_count": null,
   "id": "c45c557d",
   "metadata": {},
   "outputs": [],
   "source": [
    "# Stop the execution of the loop\n",
    "for item in my_list:\n",
    "    if item == \"Python\":\n",
    "        break\n",
    "    print(item)"
   ]
  },
  {
   "cell_type": "code",
   "execution_count": null,
   "id": "0e0343a5",
   "metadata": {},
   "outputs": [],
   "source": [
    "# Continue to the next item without executing the lines occuring after `continue` inside the loop.\n",
    "for item in my_list:\n",
    "    if item == 1:\n",
    "        continue\n",
    "    print(item)"
   ]
  },
  {
   "cell_type": "code",
   "execution_count": null,
   "id": "fd4663fd",
   "metadata": {},
   "outputs": [],
   "source": [
    "# In case you need to also know the index: enumerate()\n",
    "for idx, val in enumerate(my_list):\n",
    "    print(f\"idx: {idx}, value: {val}\")"
   ]
  },
  {
   "cell_type": "code",
   "execution_count": null,
   "id": "c9a7932b",
   "metadata": {},
   "outputs": [],
   "source": [
    "# Looping dictionaries\n",
    "my_dict = {\"hacker\": True, \"age\": 72, \"name\": \"John Doe\"}\n",
    "for val in my_dict:\n",
    "    print(val)"
   ]
  },
  {
   "cell_type": "code",
   "execution_count": null,
   "id": "e1c688e0",
   "metadata": {},
   "outputs": [],
   "source": [
    "# Using `items()` to get both key and value\n",
    "for key, val in my_dict.items():\n",
    "    print(f\"{key}={val}\")"
   ]
  },
  {
   "cell_type": "code",
   "execution_count": null,
   "id": "28881cba",
   "metadata": {},
   "outputs": [],
   "source": [
    "# Range: Creates a list of numbers, which is useful for looping\n",
    "for number in range(5):\n",
    "    print(number)"
   ]
  },
  {
   "cell_type": "code",
   "execution_count": null,
   "id": "843f3cc3",
   "metadata": {},
   "outputs": [],
   "source": [
    "# Range with start and end\n",
    "for number in range(2, 5):\n",
    "    print(number)"
   ]
  },
  {
   "cell_type": "code",
   "execution_count": null,
   "id": "a86bf945",
   "metadata": {},
   "outputs": [],
   "source": [
    "# Range with start, end and step\n",
    "for number in range(0, 10, 2):\n",
    "    print(number)"
   ]
  },
  {
   "cell_type": "markdown",
   "id": "90114c4c",
   "metadata": {},
   "source": [
    "#### [Functions](https://docs.python.org/3/tutorial/controlflow.html#defining-functions)"
   ]
  },
  {
   "cell_type": "code",
   "execution_count": null,
   "id": "4ba6d3c7",
   "metadata": {},
   "outputs": [],
   "source": [
    "# Defining a function\n",
    "def my_first_function():\n",
    "    print(\"Hello world!\")"
   ]
  },
  {
   "cell_type": "code",
   "execution_count": null,
   "id": "adfb4b33",
   "metadata": {},
   "outputs": [],
   "source": [
    "# Print the type \n",
    "print(f\"type: {type(my_first_function)}\")"
   ]
  },
  {
   "cell_type": "code",
   "execution_count": null,
   "id": "2660d047",
   "metadata": {},
   "outputs": [],
   "source": [
    "# Calling a function\n",
    "my_first_function()  "
   ]
  },
  {
   "cell_type": "code",
   "execution_count": null,
   "id": "27be1c6c",
   "metadata": {},
   "outputs": [],
   "source": [
    "# Providing arguments to a function\n",
    "def greet_us(name1, name2):\n",
    "    print(f\"Hello {name1} and {name2}!\")\n",
    "\n",
    "\n",
    "greet_us(\"John Doe\", \"Superman\")"
   ]
  },
  {
   "cell_type": "code",
   "execution_count": null,
   "id": "77414949",
   "metadata": {},
   "outputs": [],
   "source": [
    "# Function with return value\n",
    "def strip_and_lowercase(original):\n",
    "    modified = original.strip().lower()\n",
    "    return modified\n",
    "\n",
    "\n",
    "uggly_string = \"  MixED CaSe \"\n",
    "pretty = strip_and_lowercase(uggly_string)\n",
    "print(f\"pretty: {pretty}\")"
   ]
  },
  {
   "cell_type": "code",
   "execution_count": null,
   "id": "f3359dc5",
   "metadata": {},
   "outputs": [],
   "source": [
    "# Using keyword arguments\n",
    "def my_fancy_calculation(first, second, third):\n",
    "    return first + second - third\n",
    "\n",
    "\n",
    "print(my_fancy_calculation(3, 2, 1))\n",
    "\n",
    "print(my_fancy_calculation(first=3, second=2, third=1))\n",
    "\n",
    "# With keyword arguments you can mix the order\n",
    "print(my_fancy_calculation(third=1, first=3, second=2))\n",
    "\n",
    "# You can mix arguments and keyword arguments but you have to start with arguments\n",
    "print(my_fancy_calculation(3, third=1, second=2))"
   ]
  },
  {
   "cell_type": "code",
   "execution_count": null,
   "id": "c52d1e4a",
   "metadata": {},
   "outputs": [],
   "source": [
    "# Using default values for arguments\n",
    "def create_person_info(name, age, job=None, salary=300):\n",
    "    info = {\"name\": name, \"age\": age, \"salary\": salary}\n",
    "\n",
    "    # Add 'job' key only if it's provided as parameter\n",
    "    if job:\n",
    "        info.update(dict(job=job))\n",
    "\n",
    "    return info\n",
    "\n",
    "\n",
    "person1 = create_person_info(\"John Doe\", 82)  # use default values for job and salary\n",
    "person2 = create_person_info(\"Lisa Doe\", 22, \"hacker\", 10000)\n",
    "print(person1)\n",
    "print(person2)"
   ]
  },
  {
   "cell_type": "code",
   "execution_count": null,
   "id": "cc068676",
   "metadata": {},
   "outputs": [],
   "source": [
    "# Docstrings: Strings for documenting your functions, methods, modules and variables.\n",
    "def calculate_sum(val1, val2):\n",
    "    \"\"\"This is a longer docstring defining also the args and the return value.\n",
    "\n",
    "    Args:\n",
    "        val1: The first parameter.\n",
    "        val2: The second parameter.\n",
    "\n",
    "    Returns:\n",
    "        The sum of val1 and val2.\n",
    "\n",
    "    \"\"\"\n",
    "    return val1 + val2\n",
    "\n",
    "\n",
    "print(help(calculate_sum))"
   ]
  },
  {
   "cell_type": "markdown",
   "id": "1a3af6fb",
   "metadata": {},
   "source": [
    "### Exercises\n",
    "Now, it's your turn to solve the exercises below!"
   ]
  },
  {
   "cell_type": "markdown",
   "id": "00e6c5cb",
   "metadata": {},
   "source": [
    "#### Strings"
   ]
  },
  {
   "cell_type": "markdown",
   "id": "39513c15",
   "metadata": {},
   "source": [
    "##### 1. Fill missing pieces\n",
    "Fill `____` pieces below to have correct values for `lower_cased`, `stripped` and `stripped_lower_case` variables."
   ]
  },
  {
   "cell_type": "code",
   "execution_count": null,
   "id": "ea8c30bb",
   "metadata": {},
   "outputs": [],
   "source": [
    "original = \" Python strings are COOL! \"\n",
    "\n",
    "# TODO: Fill in the blanks\n",
    "lower_cased = original.lower()\n",
    "stripped = original.strip()\n",
    "stripped_lower_cased = original.strip().lower()"
   ]
  },
  {
   "cell_type": "code",
   "execution_count": null,
   "id": "426c6381",
   "metadata": {},
   "outputs": [],
   "source": [
    "# Let's verify that the implementation is correct by running this cell. assert will raise AssertionError if the statement is not true.\n",
    "assert lower_cased == \" python strings are cool! \"\n",
    "assert stripped == \"Python strings are COOL!\"\n",
    "assert stripped_lower_cased == \"python strings are cool!\""
   ]
  },
  {
   "cell_type": "markdown",
   "id": "78f26fb2",
   "metadata": {},
   "source": [
    "##### 2. Prettify ugly string\n",
    "Use `str` methods to convert `ugly` to wanted `pretty`."
   ]
  },
  {
   "cell_type": "code",
   "execution_count": null,
   "id": "60adb472",
   "metadata": {},
   "outputs": [],
   "source": [
    "ugly = \" tiTle of MY new Book\\n\\n\"\n",
    "\n",
    "# TODO: Transform ugly to pretty\n",
    "pretty = ugly.strip().lower().title()"
   ]
  },
  {
   "cell_type": "code",
   "execution_count": null,
   "id": "e3b8ba4d",
   "metadata": {},
   "outputs": [],
   "source": [
    "assert pretty == \"Title Of My New Book\""
   ]
  },
  {
   "cell_type": "markdown",
   "id": "9f88d626",
   "metadata": {},
   "source": [
    "##### 3. Format string based on existing variables\n",
    "Create `sentence` by using `verb`, `language`, and `punctuation` and any other strings you may need."
   ]
  },
  {
   "cell_type": "code",
   "execution_count": null,
   "id": "c138b4de",
   "metadata": {},
   "outputs": [],
   "source": [
    "verb = \"is\"\n",
    "language = \"Python\"\n",
    "punctuation = \"!\"\n",
    "\n",
    "# TODO: Your implementation:\n",
    "sentence = f\"Learning {language} {verb} fun{punctuation}\" # or\n",
    "sentence = \"Learning \" + language + \" \" + verb + \" fun\" + punctuation "
   ]
  },
  {
   "cell_type": "code",
   "execution_count": null,
   "id": "518eed48",
   "metadata": {},
   "outputs": [],
   "source": [
    "assert sentence == \"Learning Python is fun!\""
   ]
  },
  {
   "cell_type": "markdown",
   "id": "81bece17",
   "metadata": {},
   "source": [
    "#### Numbers"
   ]
  },
  {
   "cell_type": "markdown",
   "id": "1a5e132e",
   "metadata": {},
   "source": [
    "##### 1. Creating formulas\n",
    "Write the following mathematical formula in Python:\n",
    "\n",
    "\\begin{align}\n",
    " result = 6a^3 - \\frac{8b^2 }{4c} + 11\n",
    "\\end{align}"
   ]
  },
  {
   "cell_type": "code",
   "execution_count": null,
   "id": "d4db1bfd",
   "metadata": {},
   "outputs": [],
   "source": [
    "a = 2\n",
    "b = 3\n",
    "c = 2\n",
    "\n",
    "# TODO: Implement the formula\n",
    "result = 6*a**3 - (8*b**2)/(4*c) + 11"
   ]
  },
  {
   "cell_type": "code",
   "execution_count": null,
   "id": "ef11ec0f",
   "metadata": {},
   "outputs": [],
   "source": [
    "assert result == 50"
   ]
  },
  {
   "cell_type": "markdown",
   "id": "dd402273",
   "metadata": {},
   "source": [
    "#### Conditionals"
   ]
  },
  {
   "cell_type": "markdown",
   "id": "1150cd24",
   "metadata": {},
   "source": [
    "##### 1. `if-elif-else`\n",
    "Fill missing pieces (`____`) of the following code such that prints make sense."
   ]
  },
  {
   "cell_type": "code",
   "execution_count": null,
   "id": "f9fd8285",
   "metadata": {},
   "outputs": [],
   "source": [
    "name = \"John Doe\""
   ]
  },
  {
   "cell_type": "code",
   "execution_count": null,
   "id": "36b765e9",
   "metadata": {},
   "outputs": [],
   "source": [
    "# TODO: Fill in the blanks\n",
    "\n",
    "len_name = len(name)\n",
    "if len_name > 20:\n",
    "    print(f'Name \"{name}\" is more than 20 chars long')\n",
    "    length_description = \"long\"\n",
    "elif len_name > 15:\n",
    "    print(f'Name \"{name}\" is more than 15 chars long')\n",
    "    length_description = \"semi long\"\n",
    "elif len_name > 10:\n",
    "    print(f'Name \"{name}\" is more than 10 chars long')\n",
    "    length_description = \"semi long\"\n",
    "elif len_name in range(8, 11):\n",
    "    print(f'Name \"{name}\" is 8, 9 or 10 chars long')\n",
    "    length_description = \"semi short\"\n",
    "else:\n",
    "    print(f'Name \"{name}\" is a short name')\n",
    "    length_description = \"short\""
   ]
  },
  {
   "cell_type": "code",
   "execution_count": null,
   "id": "578118f0",
   "metadata": {},
   "outputs": [],
   "source": [
    "assert length_description == \"semi short\""
   ]
  },
  {
   "cell_type": "markdown",
   "id": "d960945e",
   "metadata": {},
   "source": [
    "#### Lists"
   ]
  },
  {
   "cell_type": "markdown",
   "id": "a781d341",
   "metadata": {},
   "source": [
    "##### 1. Fill the missing pieces\n",
    "Fill the `____` parts of the code below."
   ]
  },
  {
   "cell_type": "code",
   "execution_count": null,
   "id": "8202036f",
   "metadata": {},
   "outputs": [],
   "source": [
    "# TODO: Let's create an empty list\n",
    "my_list = []\n",
    "\n",
    "# TODO: Let's add some values\n",
    "my_list.append(\"Python\")\n",
    "my_list.append(\"is ok\")\n",
    "my_list.append(\"sometimes\")\n",
    "\n",
    "# TODO: Let's remove 'sometimes'\n",
    "my_list.remove(\"sometimes\")\n",
    "\n",
    "# TODO: Let's change the second item\n",
    "my_list[1] = \"is neat\""
   ]
  },
  {
   "cell_type": "code",
   "execution_count": null,
   "id": "5c4a1e1a",
   "metadata": {},
   "outputs": [],
   "source": [
    "# Let's verify that it's correct\n",
    "assert my_list == [\"Python\", \"is neat\"]"
   ]
  },
  {
   "cell_type": "markdown",
   "id": "831d5895",
   "metadata": {},
   "source": [
    "##### 2. Create a new list without modifiying the original one"
   ]
  },
  {
   "cell_type": "code",
   "execution_count": null,
   "id": "584b2a82",
   "metadata": {},
   "outputs": [],
   "source": [
    "original = [\"I\", \"am\", \"learning\", \"hacking\", \"in\"]"
   ]
  },
  {
   "cell_type": "code",
   "execution_count": null,
   "id": "b7021602",
   "metadata": {},
   "outputs": [],
   "source": [
    "# TODO: Your implementation here\n",
    "modified = original.copy()\n",
    "modified.append(\"Python\")\n",
    "modified[3] = \"lists\""
   ]
  },
  {
   "cell_type": "code",
   "execution_count": null,
   "id": "bdcb5443",
   "metadata": {},
   "outputs": [],
   "source": [
    "assert original == [\"I\", \"am\", \"learning\", \"hacking\", \"in\"]\n",
    "assert modified == [\"I\", \"am\", \"learning\", \"lists\", \"in\", \"Python\"]"
   ]
  },
  {
   "cell_type": "markdown",
   "id": "8bb53475",
   "metadata": {},
   "source": [
    "##### 3. Create a merged sorted list"
   ]
  },
  {
   "cell_type": "code",
   "execution_count": null,
   "id": "153321e4",
   "metadata": {},
   "outputs": [],
   "source": [
    "list1 = [6, 12, 5]\n",
    "list2 = [6.2, 0, 14, 1]\n",
    "list3 = [0.9]"
   ]
  },
  {
   "cell_type": "code",
   "execution_count": null,
   "id": "5781fe46",
   "metadata": {},
   "outputs": [],
   "source": [
    "# TODO: Your implementation here\n",
    "my_list = (list1 + list2 + list3)\n",
    "my_list.sort(reverse=True)"
   ]
  },
  {
   "cell_type": "code",
   "execution_count": null,
   "id": "85a33c3d",
   "metadata": {},
   "outputs": [],
   "source": [
    "assert my_list == [14, 12, 6.2, 6, 5, 1, 0.9, 0]"
   ]
  },
  {
   "cell_type": "markdown",
   "id": "46d6fc6a",
   "metadata": {},
   "source": [
    "#### Dictionaries"
   ]
  },
  {
   "cell_type": "markdown",
   "id": "d43e1c92",
   "metadata": {},
   "source": [
    "##### 1. Populating a dictionary\n",
    "Create a dictionary by using all the given variables."
   ]
  },
  {
   "cell_type": "code",
   "execution_count": null,
   "id": "5dc71799",
   "metadata": {},
   "outputs": [],
   "source": [
    "first_name = \"John\"\n",
    "last_name = \"Doe\"\n",
    "favorite_hobby = \"Python\"\n",
    "sports_hobby = \"gym\"\n",
    "age = 82"
   ]
  },
  {
   "cell_type": "code",
   "execution_count": null,
   "id": "66f82959",
   "metadata": {},
   "outputs": [],
   "source": [
    "# TODO: Your implementation\n",
    "my_dict = {\n",
    "    \"name\": first_name + \" \" + last_name,\n",
    "    \"hobbies\": [favorite_hobby, sports_hobby],\n",
    "    \"age\": age\n",
    "}"
   ]
  },
  {
   "cell_type": "code",
   "execution_count": null,
   "id": "6e37e32c",
   "metadata": {},
   "outputs": [],
   "source": [
    "assert my_dict == {\"name\": \"John Doe\", \"age\": 82, \"hobbies\": [\"Python\", \"gym\"]}"
   ]
  },
  {
   "cell_type": "markdown",
   "id": "94063420",
   "metadata": {},
   "source": [
    "##### 2. Accessing and merging dictionaries\n",
    "Combine `dict1`, `dict2`, and `dict3` into `my_dict`. In addition, get the value of `special_key` from `my_dict` into a `special_value` variable. Note that original dictionaries should stay untouched and `special_key` should be removed from `my_dict`."
   ]
  },
  {
   "cell_type": "code",
   "execution_count": null,
   "id": "7f099a04",
   "metadata": {},
   "outputs": [],
   "source": [
    "dict1 = dict(key1=\"This is not that hard\", key2=\"Python is still cool\")\n",
    "dict2 = {\"key1\": 123, \"special_key\": \"secret\"}\n",
    "# This is also a way to initialize a dict (list of tuples)\n",
    "dict3 = dict([(\"key2\", 456), (\"keyX\", \"X\")])"
   ]
  },
  {
   "cell_type": "code",
   "execution_count": null,
   "id": "8f66503a",
   "metadata": {},
   "outputs": [],
   "source": [
    "# TODO: Your implementation\n",
    "my_dict = dict1 | dict2 |  dict3\n",
    "special_value = my_dict.pop(\"special_key\")"
   ]
  },
  {
   "cell_type": "code",
   "execution_count": null,
   "id": "0ebb6698",
   "metadata": {},
   "outputs": [],
   "source": [
    "assert my_dict == {\"key1\": 123, \"key2\": 456, \"keyX\": \"X\"}\n",
    "assert special_value == \"secret\"\n",
    "\n",
    "# Let's check that the originals are untouched\n",
    "assert dict1 == {\"key1\": \"This is not that hard\", \"key2\": \"Python is still cool\"}\n",
    "assert dict2 == {\"key1\": 123, \"special_key\": \"secret\"}\n",
    "assert dict3 == {\"key2\": 456, \"keyX\": \"X\"}"
   ]
  },
  {
   "cell_type": "markdown",
   "id": "218c2fab",
   "metadata": {},
   "source": [
    "#### For-loops"
   ]
  },
  {
   "cell_type": "markdown",
   "id": "7cc91c9a",
   "metadata": {},
   "source": [
    "##### 1. Fill the missing pieces\n",
    "Fill the `____` parts in the code below."
   ]
  },
  {
   "cell_type": "code",
   "execution_count": null,
   "id": "3f4a7aa0",
   "metadata": {},
   "outputs": [],
   "source": [
    "words = [\"PYTHON\", \"JOHN\", \"chEEse\", \"hAm\", \"DOE\", \"123\"]\n",
    "upper_case_words = []\n",
    "\n",
    "# TODO: Fill in the blanks\n",
    "for word in words:\n",
    "    if word.isupper():\n",
    "        upper_case_words.append(word)"
   ]
  },
  {
   "cell_type": "code",
   "execution_count": null,
   "id": "35683c9a",
   "metadata": {},
   "outputs": [],
   "source": [
    "assert upper_case_words == [\"PYTHON\", \"JOHN\", \"DOE\"]"
   ]
  },
  {
   "cell_type": "markdown",
   "id": "a59fd561",
   "metadata": {},
   "source": [
    "##### 2. Calculate the sum of dict values\n",
    "Calculate the sum of the values in `magic_dict` by taking only into account numeric values (hint: see [isinstance](https://docs.python.org/3/library/functions.html#isinstance)). "
   ]
  },
  {
   "cell_type": "code",
   "execution_count": null,
   "id": "2e3abef7",
   "metadata": {},
   "outputs": [],
   "source": [
    "magic_dict = dict(val1=44, val2=\"secret value\", val3=55.0, val4=1)"
   ]
  },
  {
   "cell_type": "code",
   "execution_count": null,
   "id": "0a5a47a0",
   "metadata": {},
   "outputs": [],
   "source": [
    "# TODO: Your implementation\n",
    "sum_of_values = sum([value for key, value in magic_dict.items() if isinstance(value, (int, float))]) \n",
    "\n",
    "# or\n",
    "sum_of_values = 0\n",
    "for value in magic_dict.values():\n",
    "    if isinstance(value, (int, float)):\n",
    "        sum_of_values += value"
   ]
  },
  {
   "cell_type": "code",
   "execution_count": null,
   "id": "cc4d9bf4",
   "metadata": {},
   "outputs": [],
   "source": [
    "assert sum_of_values == 100"
   ]
  },
  {
   "cell_type": "markdown",
   "id": "af95cccf",
   "metadata": {},
   "source": [
    "#### Functions"
   ]
  },
  {
   "cell_type": "markdown",
   "id": "0f72af2d",
   "metadata": {},
   "source": [
    "##### 1. Fill the missing pieces of the `count_even_numbers` function\n",
    "Fill `____` pieces of the `count_even_numbers` implemention in order to pass the assertions. You can assume that `numbers` argument is a list of integers."
   ]
  },
  {
   "cell_type": "code",
   "execution_count": null,
   "id": "f594ee80",
   "metadata": {},
   "outputs": [],
   "source": [
    "# TODO: Your implementation\n",
    "def count_even_numbers(numbers):\n",
    "    count = 0\n",
    "    for num in numbers:\n",
    "        if num % 2 == 0:\n",
    "            count += 1\n",
    "    return count"
   ]
  },
  {
   "cell_type": "code",
   "execution_count": null,
   "id": "6ea1c148",
   "metadata": {},
   "outputs": [],
   "source": [
    "assert count_even_numbers([1, 2, 3, 4, 5, 6]) == 3\n",
    "assert count_even_numbers([1, 3, 5, 7]) == 0\n",
    "assert count_even_numbers([-2, 2, -10, 8]) == 4"
   ]
  },
  {
   "cell_type": "markdown",
   "id": "50da9bf4",
   "metadata": {},
   "source": [
    "##### 2. Searching for wanted people\n",
    "Implement `find_wanted_people` function which takes a list of names (strings) as argument. The function should return a list of names which are present both in `WANTED_PEOPLE` and in the name list given as argument to the function."
   ]
  },
  {
   "cell_type": "code",
   "execution_count": null,
   "id": "0af9b653",
   "metadata": {},
   "outputs": [],
   "source": [
    "WANTED_PEOPLE = [\"John Doe\", \"Clint Eastwood\", \"Chuck Norris\"]"
   ]
  },
  {
   "cell_type": "code",
   "execution_count": null,
   "id": "406c79fd",
   "metadata": {},
   "outputs": [],
   "source": [
    "# TODO: Your implementation here\n",
    "def find_wanted_people(people):\n",
    "    wanted_people = []\n",
    "    for person in people:\n",
    "        if person in WANTED_PEOPLE:\n",
    "            wanted_people.append(person)\n",
    "    return wanted_people"
   ]
  },
  {
   "cell_type": "code",
   "execution_count": null,
   "id": "0957cfbe",
   "metadata": {},
   "outputs": [],
   "source": [
    "people_to_check1 = [\"Donald Duck\", \"Clint Eastwood\", \"John Doe\", \"Barack Obama\"]\n",
    "wanted1 = find_wanted_people(people_to_check1)\n",
    "assert len(wanted1) == 2\n",
    "assert \"John Doe\" in wanted1\n",
    "assert \"Clint Eastwood\" in wanted1\n",
    "\n",
    "people_to_check2 = [\"Donald Duck\", \"Mickey Mouse\", \"Zorro\", \"Superman\", \"Robin Hood\"]\n",
    "wanted2 = find_wanted_people(people_to_check2)\n",
    "assert wanted2 == []"
   ]
  },
  {
   "cell_type": "markdown",
   "id": "b918eeb3",
   "metadata": {},
   "source": [
    "##### 3. Counting average length of words in a sentence\n",
    "Create a function `average_length_of_words` which takes a string as an argument and returns the average length of the words in the string. You can assume that there is a single space between each word and that the input does not have punctuation. The result should be rounded to one decimal place (hint: see [`round`](https://docs.python.org/3/library/functions.html#round))."
   ]
  },
  {
   "cell_type": "code",
   "execution_count": null,
   "id": "85221a19",
   "metadata": {},
   "outputs": [],
   "source": [
    "# TODO: Your implementation here\n",
    "def average_length_of_words(text):\n",
    "    words = text.split()\n",
    "    word_lengths = [len(word) for word in words]\n",
    "    return round(sum(word_lengths) / len(word_lengths), 1) if word_lengths else 0"
   ]
  },
  {
   "cell_type": "code",
   "execution_count": null,
   "id": "dbb25b98",
   "metadata": {},
   "outputs": [],
   "source": [
    "assert average_length_of_words(\"only four lett erwo rdss\") == 4\n",
    "assert average_length_of_words(\"one two three\") == 3.7\n",
    "assert average_length_of_words(\"one two three four\") == 3.8\n",
    "assert average_length_of_words(\"\") == 0"
   ]
  }
 ],
 "metadata": {
  "kernelspec": {
   "display_name": ".venv",
   "language": "python",
   "name": "python3"
  },
  "language_info": {
   "codemirror_mode": {
    "name": "ipython",
    "version": 3
   },
   "file_extension": ".py",
   "mimetype": "text/x-python",
   "name": "python",
   "nbconvert_exporter": "python",
   "pygments_lexer": "ipython3",
   "version": "3.13.1"
  }
 },
 "nbformat": 4,
 "nbformat_minor": 5
}

{
 "cells": [
  {
   "cell_type": "markdown",
   "id": "42788ab2",
   "metadata": {},
   "source": [
    "# GenAI-Camp: Day 01\n",
    "## Lesson: Data Understanding with Pandas\n",
    "\n",
    "This lesson is intended to show you the basics of data understanding using *pandas*.\n",
    "\n",
    "During this lesson you will learn how to ...\n",
    "\n",
    "- read tabular data\n",
    "- explore descriptive statistics\n",
    "- do simple data manipulation"
   ]
  },
  {
   "cell_type": "markdown",
   "id": "0d15a4ba",
   "metadata": {},
   "source": [
    "### Set up the environment\n",
    "Import the necessary libraries, set constants, and define helper functions."
   ]
  },
  {
   "cell_type": "code",
   "execution_count": null,
   "id": "7c4b38d1",
   "metadata": {},
   "outputs": [],
   "source": [
    "# Import necessary libraries\n",
    "import pandas as pd\n",
    "import numpy as np\n",
    "import os"
   ]
  },
  {
   "cell_type": "code",
   "execution_count": null,
   "id": "7f0febc6",
   "metadata": {},
   "outputs": [],
   "source": [
    "# Check runtime environment to make sure we are running in a colab environment. \n",
    "if os.getenv(\"COLAB_RELEASE_TAG\"):\n",
    "   COLAB = True\n",
    "   print(\"Running on COLAB environment.\") \n",
    "else:\n",
    "   COLAB = False\n",
    "   print(\"WARNING: Running on LOCAL environment.\")"
   ]
  },
  {
   "cell_type": "code",
   "execution_count": null,
   "id": "26dceb59",
   "metadata": {},
   "outputs": [],
   "source": [
    "# Define path of ressources\n",
    "if COLAB:\n",
    "    # Clone the data repository into colab\n",
    "    !git clone https://github.com/openknowledge/workshop-genai-camp-data.git\n",
    "    DATA_PATH = \"/content/workshop-genai-camp-data/day-01/data\"\n",
    "else:\n",
    "    DATA_PATH = \"../data\"\n",
    "IMDB_FILE = DATA_PATH + \"/imdb_dataset.csv\""
   ]
  },
  {
   "cell_type": "markdown",
   "id": "b4c9a5e4",
   "metadata": {},
   "source": [
    "### Introduction: [Pandas](https://pandas.pydata.org/docs/)"
   ]
  },
  {
   "cell_type": "code",
   "execution_count": null,
   "id": "b0fd5752",
   "metadata": {},
   "outputs": [
    {
     "data": {
      "text/html": [
       "<div>\n",
       "<style scoped>\n",
       "    .dataframe tbody tr th:only-of-type {\n",
       "        vertical-align: middle;\n",
       "    }\n",
       "\n",
       "    .dataframe tbody tr th {\n",
       "        vertical-align: top;\n",
       "    }\n",
       "\n",
       "    .dataframe thead th {\n",
       "        text-align: right;\n",
       "    }\n",
       "</style>\n",
       "<table border=\"1\" class=\"dataframe\">\n",
       "  <thead>\n",
       "    <tr style=\"text-align: right;\">\n",
       "      <th></th>\n",
       "      <th>Movie</th>\n",
       "      <th>Year</th>\n",
       "      <th>Rating</th>\n",
       "    </tr>\n",
       "  </thead>\n",
       "  <tbody>\n",
       "    <tr>\n",
       "      <th>0</th>\n",
       "      <td>Inception</td>\n",
       "      <td>2010</td>\n",
       "      <td>8.8</td>\n",
       "    </tr>\n",
       "    <tr>\n",
       "      <th>1</th>\n",
       "      <td>The Dark Knight</td>\n",
       "      <td>2008</td>\n",
       "      <td>9.0</td>\n",
       "    </tr>\n",
       "    <tr>\n",
       "      <th>2</th>\n",
       "      <td>Interstellar</td>\n",
       "      <td>2014</td>\n",
       "      <td>8.6</td>\n",
       "    </tr>\n",
       "    <tr>\n",
       "      <th>3</th>\n",
       "      <td>Dunkirk</td>\n",
       "      <td>2017</td>\n",
       "      <td>7.9</td>\n",
       "    </tr>\n",
       "    <tr>\n",
       "      <th>4</th>\n",
       "      <td>Greatest Showman</td>\n",
       "      <td>2017</td>\n",
       "      <td>7.5</td>\n",
       "    </tr>\n",
       "  </tbody>\n",
       "</table>\n",
       "</div>"
      ],
      "text/plain": [
       "              Movie  Year  Rating\n",
       "0         Inception  2010     8.8\n",
       "1   The Dark Knight  2008     9.0\n",
       "2      Interstellar  2014     8.6\n",
       "3           Dunkirk  2017     7.9\n",
       "4  Greatest Showman  2017     7.5"
      ]
     },
     "execution_count": 51,
     "metadata": {},
     "output_type": "execute_result"
    }
   ],
   "source": [
    "# Create a sample dataframe for demonstration\n",
    "data = {\n",
    "    'Movie': ['Inception', 'The Dark Knight', 'Interstellar', 'Dunkirk', 'Greatest Showman'],\n",
    "    'Year': [2010, 2008, 2014, 2017, 2017],\n",
    "    'Rating': [8.8, 9.0, 8.6, 7.9, 7.5]\n",
    "}\n",
    "\n",
    "# Load the sample data into a pandas DataFrame\n",
    "df_introduction = pd.DataFrame(data)\n",
    "df_introduction"
   ]
  },
  {
   "cell_type": "code",
   "execution_count": null,
   "id": "3003ba09",
   "metadata": {},
   "outputs": [
    {
     "data": {
      "text/plain": [
       "pandas.core.series.Series"
      ]
     },
     "execution_count": 52,
     "metadata": {},
     "output_type": "execute_result"
    }
   ],
   "source": [
    "# A column of a dataframe is called Series\n",
    "type(df_introduction['Movie'])"
   ]
  },
  {
   "cell_type": "code",
   "execution_count": null,
   "id": "b604911f",
   "metadata": {},
   "outputs": [
    {
     "data": {
      "text/plain": [
       "0           Inception\n",
       "1     The Dark Knight\n",
       "2        Interstellar\n",
       "3             Dunkirk\n",
       "4    Greatest Showman\n",
       "Name: Movie, dtype: object"
      ]
     },
     "execution_count": 53,
     "metadata": {},
     "output_type": "execute_result"
    }
   ],
   "source": [
    "# Accessing a column in a dataframe returns the Series\n",
    "df_introduction['Movie']"
   ]
  },
  {
   "cell_type": "code",
   "execution_count": null,
   "id": "aa26ec40",
   "metadata": {},
   "outputs": [
    {
     "data": {
      "text/html": [
       "<div>\n",
       "<style scoped>\n",
       "    .dataframe tbody tr th:only-of-type {\n",
       "        vertical-align: middle;\n",
       "    }\n",
       "\n",
       "    .dataframe tbody tr th {\n",
       "        vertical-align: top;\n",
       "    }\n",
       "\n",
       "    .dataframe thead th {\n",
       "        text-align: right;\n",
       "    }\n",
       "</style>\n",
       "<table border=\"1\" class=\"dataframe\">\n",
       "  <thead>\n",
       "    <tr style=\"text-align: right;\">\n",
       "      <th></th>\n",
       "      <th>Movie</th>\n",
       "      <th>Year</th>\n",
       "      <th>Rating</th>\n",
       "    </tr>\n",
       "  </thead>\n",
       "  <tbody>\n",
       "    <tr>\n",
       "      <th>0</th>\n",
       "      <td>Inception</td>\n",
       "      <td>2010</td>\n",
       "      <td>8.8</td>\n",
       "    </tr>\n",
       "    <tr>\n",
       "      <th>1</th>\n",
       "      <td>The Dark Knight</td>\n",
       "      <td>2008</td>\n",
       "      <td>9.0</td>\n",
       "    </tr>\n",
       "    <tr>\n",
       "      <th>2</th>\n",
       "      <td>Interstellar</td>\n",
       "      <td>2014</td>\n",
       "      <td>8.6</td>\n",
       "    </tr>\n",
       "  </tbody>\n",
       "</table>\n",
       "</div>"
      ],
      "text/plain": [
       "             Movie  Year  Rating\n",
       "0        Inception  2010     8.8\n",
       "1  The Dark Knight  2008     9.0\n",
       "2     Interstellar  2014     8.6"
      ]
     },
     "execution_count": 54,
     "metadata": {},
     "output_type": "execute_result"
    }
   ],
   "source": [
    "# Filter the dataset to include only movies with a rating of 8.0 or higher\n",
    "high_rated_movies = df_introduction[df_introduction['Rating'] >= 8.0]\n",
    "high_rated_movies"
   ]
  },
  {
   "cell_type": "code",
   "execution_count": null,
   "id": "96ad315e",
   "metadata": {},
   "outputs": [
    {
     "data": {
      "text/html": [
       "<div>\n",
       "<style scoped>\n",
       "    .dataframe tbody tr th:only-of-type {\n",
       "        vertical-align: middle;\n",
       "    }\n",
       "\n",
       "    .dataframe tbody tr th {\n",
       "        vertical-align: top;\n",
       "    }\n",
       "\n",
       "    .dataframe thead th {\n",
       "        text-align: right;\n",
       "    }\n",
       "</style>\n",
       "<table border=\"1\" class=\"dataframe\">\n",
       "  <thead>\n",
       "    <tr style=\"text-align: right;\">\n",
       "      <th></th>\n",
       "      <th>Movie</th>\n",
       "      <th>Year</th>\n",
       "      <th>Rating</th>\n",
       "      <th>Decade</th>\n",
       "    </tr>\n",
       "  </thead>\n",
       "  <tbody>\n",
       "    <tr>\n",
       "      <th>0</th>\n",
       "      <td>Inception</td>\n",
       "      <td>2010</td>\n",
       "      <td>8.8</td>\n",
       "      <td>2010</td>\n",
       "    </tr>\n",
       "    <tr>\n",
       "      <th>1</th>\n",
       "      <td>The Dark Knight</td>\n",
       "      <td>2008</td>\n",
       "      <td>9.0</td>\n",
       "      <td>2000</td>\n",
       "    </tr>\n",
       "    <tr>\n",
       "      <th>2</th>\n",
       "      <td>Interstellar</td>\n",
       "      <td>2014</td>\n",
       "      <td>8.6</td>\n",
       "      <td>2010</td>\n",
       "    </tr>\n",
       "    <tr>\n",
       "      <th>3</th>\n",
       "      <td>Dunkirk</td>\n",
       "      <td>2017</td>\n",
       "      <td>7.9</td>\n",
       "      <td>2010</td>\n",
       "    </tr>\n",
       "    <tr>\n",
       "      <th>4</th>\n",
       "      <td>Greatest Showman</td>\n",
       "      <td>2017</td>\n",
       "      <td>7.5</td>\n",
       "      <td>2010</td>\n",
       "    </tr>\n",
       "  </tbody>\n",
       "</table>\n",
       "</div>"
      ],
      "text/plain": [
       "              Movie  Year  Rating  Decade\n",
       "0         Inception  2010     8.8    2010\n",
       "1   The Dark Knight  2008     9.0    2000\n",
       "2      Interstellar  2014     8.6    2010\n",
       "3           Dunkirk  2017     7.9    2010\n",
       "4  Greatest Showman  2017     7.5    2010"
      ]
     },
     "execution_count": 55,
     "metadata": {},
     "output_type": "execute_result"
    }
   ],
   "source": [
    "# Create a new column 'Decade' based on the 'Year' column\n",
    "df_introduction['Decade'] = (df_introduction['Year'] // 10) * 10\n",
    "df_introduction"
   ]
  },
  {
   "cell_type": "code",
   "execution_count": null,
   "id": "1adbf627",
   "metadata": {},
   "outputs": [
    {
     "data": {
      "text/plain": [
       "'The Dark Knight'"
      ]
     },
     "execution_count": 56,
     "metadata": {},
     "output_type": "execute_result"
    }
   ],
   "source": [
    "# Get the movie title with the highest rating\n",
    "highest_rated_movie = df_introduction.loc[df_introduction['Rating'].idxmax(), 'Movie']\n",
    "highest_rated_movie"
   ]
  },
  {
   "cell_type": "markdown",
   "id": "829c59e7",
   "metadata": {},
   "source": [
    "### IMDB Dataset of Movie Reviews with Sentiments\n",
    "The IMDB Dataset is a popular dataset used for natural language processing (NLP) and machine learning tasks, particularly for binary sentiment classification (positive/negative). It contains a large collection of movie reviews from the Internet Movie Database (IMDB), labeled according to their sentiment."
   ]
  },
  {
   "cell_type": "code",
   "execution_count": null,
   "id": "b2902d57",
   "metadata": {},
   "outputs": [
    {
     "data": {
      "text/html": [
       "<div>\n",
       "<style scoped>\n",
       "    .dataframe tbody tr th:only-of-type {\n",
       "        vertical-align: middle;\n",
       "    }\n",
       "\n",
       "    .dataframe tbody tr th {\n",
       "        vertical-align: top;\n",
       "    }\n",
       "\n",
       "    .dataframe thead th {\n",
       "        text-align: right;\n",
       "    }\n",
       "</style>\n",
       "<table border=\"1\" class=\"dataframe\">\n",
       "  <thead>\n",
       "    <tr style=\"text-align: right;\">\n",
       "      <th></th>\n",
       "      <th>text</th>\n",
       "      <th>label</th>\n",
       "      <th>year</th>\n",
       "    </tr>\n",
       "  </thead>\n",
       "  <tbody>\n",
       "    <tr>\n",
       "      <th>0</th>\n",
       "      <td>I grew up (b. 1965) watching and loving the Th...</td>\n",
       "      <td>0</td>\n",
       "      <td>2015</td>\n",
       "    </tr>\n",
       "    <tr>\n",
       "      <th>1</th>\n",
       "      <td>When I put this movie in my DVD player, and sa...</td>\n",
       "      <td>0</td>\n",
       "      <td>2022</td>\n",
       "    </tr>\n",
       "    <tr>\n",
       "      <th>2</th>\n",
       "      <td>Why do people who do not know what a particula...</td>\n",
       "      <td>0</td>\n",
       "      <td>2015</td>\n",
       "    </tr>\n",
       "    <tr>\n",
       "      <th>3</th>\n",
       "      <td>Even though I have great interest in Biblical ...</td>\n",
       "      <td>0</td>\n",
       "      <td>2021</td>\n",
       "    </tr>\n",
       "    <tr>\n",
       "      <th>4</th>\n",
       "      <td>Im a die hard Dads Army fan and nothing will e...</td>\n",
       "      <td>1</td>\n",
       "      <td>2021</td>\n",
       "    </tr>\n",
       "    <tr>\n",
       "      <th>...</th>\n",
       "      <td>...</td>\n",
       "      <td>...</td>\n",
       "      <td>...</td>\n",
       "    </tr>\n",
       "    <tr>\n",
       "      <th>39995</th>\n",
       "      <td>\"Western Union\" is something of a forgotten cl...</td>\n",
       "      <td>1</td>\n",
       "      <td>2018</td>\n",
       "    </tr>\n",
       "    <tr>\n",
       "      <th>39996</th>\n",
       "      <td>This movie is an incredible piece of work. It ...</td>\n",
       "      <td>1</td>\n",
       "      <td>2021</td>\n",
       "    </tr>\n",
       "    <tr>\n",
       "      <th>39997</th>\n",
       "      <td>My wife and I watched this movie because we pl...</td>\n",
       "      <td>0</td>\n",
       "      <td>2023</td>\n",
       "    </tr>\n",
       "    <tr>\n",
       "      <th>39998</th>\n",
       "      <td>When I first watched Flatliners, I was amazed....</td>\n",
       "      <td>1</td>\n",
       "      <td>2018</td>\n",
       "    </tr>\n",
       "    <tr>\n",
       "      <th>39999</th>\n",
       "      <td>Why would this film be so good, but only gross...</td>\n",
       "      <td>1</td>\n",
       "      <td>2016</td>\n",
       "    </tr>\n",
       "  </tbody>\n",
       "</table>\n",
       "<p>40000 rows × 3 columns</p>\n",
       "</div>"
      ],
      "text/plain": [
       "                                                    text  label  year\n",
       "0      I grew up (b. 1965) watching and loving the Th...      0  2015\n",
       "1      When I put this movie in my DVD player, and sa...      0  2022\n",
       "2      Why do people who do not know what a particula...      0  2015\n",
       "3      Even though I have great interest in Biblical ...      0  2021\n",
       "4      Im a die hard Dads Army fan and nothing will e...      1  2021\n",
       "...                                                  ...    ...   ...\n",
       "39995  \"Western Union\" is something of a forgotten cl...      1  2018\n",
       "39996  This movie is an incredible piece of work. It ...      1  2021\n",
       "39997  My wife and I watched this movie because we pl...      0  2023\n",
       "39998  When I first watched Flatliners, I was amazed....      1  2018\n",
       "39999  Why would this film be so good, but only gross...      1  2016\n",
       "\n",
       "[40000 rows x 3 columns]"
      ]
     },
     "execution_count": 74,
     "metadata": {},
     "output_type": "execute_result"
    }
   ],
   "source": [
    "# Load the IMDB dataset\n",
    "df = pd.read_csv(IMDB_FILE)\n",
    "df"
   ]
  },
  {
   "cell_type": "markdown",
   "id": "18a272cf",
   "metadata": {},
   "source": [
    "### Exercise 01: Data Inspection and Initial Understanding\n",
    "Understand the structure and contents of the IMDB dataset. Inspect the data types, check for missing values, and analyze the distribution of labels (positive/negative reviews).\n",
    "1. Display the first 5 rows and last 5 rows of the dataset.\n",
    "2. Check the column names, data types, and the number of missing values for each column.\n",
    "3. Count the number of positive and negative reviews.\n",
    "\n",
    "**Hints**:\n",
    "* Use `.head()` and `.tail()` to inspect the rows of a dataframe (see [documentation](https://pandas.pydata.org/docs/reference/api/pandas.DataFrame.head.html)).\n",
    "* `.info()` will give you the column names and data types (see [documentation](https://pandas.pydata.org/docs/reference/api/pandas.DataFrame.info.html)).\n",
    "* `.isna().sum()` will tell you if there are any missing values in the dataset (see [documentation](https://pandas.pydata.org/docs/reference/api/pandas.DataFrame.isna.html)).\n",
    "* Use `.value_counts()` to count the distribution of positive and negative labels (see [documentation](https://pandas.pydata.org/docs/reference/api/pandas.Series.value_counts.html)).\n"
   ]
  },
  {
   "cell_type": "code",
   "execution_count": null,
   "id": "0e696908",
   "metadata": {},
   "outputs": [
    {
     "data": {
      "text/html": [
       "<div>\n",
       "<style scoped>\n",
       "    .dataframe tbody tr th:only-of-type {\n",
       "        vertical-align: middle;\n",
       "    }\n",
       "\n",
       "    .dataframe tbody tr th {\n",
       "        vertical-align: top;\n",
       "    }\n",
       "\n",
       "    .dataframe thead th {\n",
       "        text-align: right;\n",
       "    }\n",
       "</style>\n",
       "<table border=\"1\" class=\"dataframe\">\n",
       "  <thead>\n",
       "    <tr style=\"text-align: right;\">\n",
       "      <th></th>\n",
       "      <th>text</th>\n",
       "      <th>label</th>\n",
       "      <th>year</th>\n",
       "    </tr>\n",
       "  </thead>\n",
       "  <tbody>\n",
       "    <tr>\n",
       "      <th>0</th>\n",
       "      <td>I grew up (b. 1965) watching and loving the Th...</td>\n",
       "      <td>0</td>\n",
       "      <td>2015</td>\n",
       "    </tr>\n",
       "    <tr>\n",
       "      <th>1</th>\n",
       "      <td>When I put this movie in my DVD player, and sa...</td>\n",
       "      <td>0</td>\n",
       "      <td>2022</td>\n",
       "    </tr>\n",
       "    <tr>\n",
       "      <th>2</th>\n",
       "      <td>Why do people who do not know what a particula...</td>\n",
       "      <td>0</td>\n",
       "      <td>2015</td>\n",
       "    </tr>\n",
       "    <tr>\n",
       "      <th>3</th>\n",
       "      <td>Even though I have great interest in Biblical ...</td>\n",
       "      <td>0</td>\n",
       "      <td>2021</td>\n",
       "    </tr>\n",
       "    <tr>\n",
       "      <th>4</th>\n",
       "      <td>Im a die hard Dads Army fan and nothing will e...</td>\n",
       "      <td>1</td>\n",
       "      <td>2021</td>\n",
       "    </tr>\n",
       "  </tbody>\n",
       "</table>\n",
       "</div>"
      ],
      "text/plain": [
       "                                                text  label  year\n",
       "0  I grew up (b. 1965) watching and loving the Th...      0  2015\n",
       "1  When I put this movie in my DVD player, and sa...      0  2022\n",
       "2  Why do people who do not know what a particula...      0  2015\n",
       "3  Even though I have great interest in Biblical ...      0  2021\n",
       "4  Im a die hard Dads Army fan and nothing will e...      1  2021"
      ]
     },
     "execution_count": 75,
     "metadata": {},
     "output_type": "execute_result"
    }
   ],
   "source": [
    "# TODO: Your implementation\n",
    "df.head()"
   ]
  },
  {
   "cell_type": "code",
   "execution_count": null,
   "id": "0f38b2a5",
   "metadata": {},
   "outputs": [
    {
     "data": {
      "text/html": [
       "<div>\n",
       "<style scoped>\n",
       "    .dataframe tbody tr th:only-of-type {\n",
       "        vertical-align: middle;\n",
       "    }\n",
       "\n",
       "    .dataframe tbody tr th {\n",
       "        vertical-align: top;\n",
       "    }\n",
       "\n",
       "    .dataframe thead th {\n",
       "        text-align: right;\n",
       "    }\n",
       "</style>\n",
       "<table border=\"1\" class=\"dataframe\">\n",
       "  <thead>\n",
       "    <tr style=\"text-align: right;\">\n",
       "      <th></th>\n",
       "      <th>text</th>\n",
       "      <th>label</th>\n",
       "      <th>year</th>\n",
       "    </tr>\n",
       "  </thead>\n",
       "  <tbody>\n",
       "    <tr>\n",
       "      <th>39995</th>\n",
       "      <td>\"Western Union\" is something of a forgotten cl...</td>\n",
       "      <td>1</td>\n",
       "      <td>2018</td>\n",
       "    </tr>\n",
       "    <tr>\n",
       "      <th>39996</th>\n",
       "      <td>This movie is an incredible piece of work. It ...</td>\n",
       "      <td>1</td>\n",
       "      <td>2021</td>\n",
       "    </tr>\n",
       "    <tr>\n",
       "      <th>39997</th>\n",
       "      <td>My wife and I watched this movie because we pl...</td>\n",
       "      <td>0</td>\n",
       "      <td>2023</td>\n",
       "    </tr>\n",
       "    <tr>\n",
       "      <th>39998</th>\n",
       "      <td>When I first watched Flatliners, I was amazed....</td>\n",
       "      <td>1</td>\n",
       "      <td>2018</td>\n",
       "    </tr>\n",
       "    <tr>\n",
       "      <th>39999</th>\n",
       "      <td>Why would this film be so good, but only gross...</td>\n",
       "      <td>1</td>\n",
       "      <td>2016</td>\n",
       "    </tr>\n",
       "  </tbody>\n",
       "</table>\n",
       "</div>"
      ],
      "text/plain": [
       "                                                    text  label  year\n",
       "39995  \"Western Union\" is something of a forgotten cl...      1  2018\n",
       "39996  This movie is an incredible piece of work. It ...      1  2021\n",
       "39997  My wife and I watched this movie because we pl...      0  2023\n",
       "39998  When I first watched Flatliners, I was amazed....      1  2018\n",
       "39999  Why would this film be so good, but only gross...      1  2016"
      ]
     },
     "execution_count": 76,
     "metadata": {},
     "output_type": "execute_result"
    }
   ],
   "source": [
    "df.tail()"
   ]
  },
  {
   "cell_type": "code",
   "execution_count": null,
   "id": "a7b39152",
   "metadata": {},
   "outputs": [
    {
     "name": "stdout",
     "output_type": "stream",
     "text": [
      "<class 'pandas.core.frame.DataFrame'>\n",
      "RangeIndex: 40000 entries, 0 to 39999\n",
      "Data columns (total 3 columns):\n",
      " #   Column  Non-Null Count  Dtype \n",
      "---  ------  --------------  ----- \n",
      " 0   text    40000 non-null  object\n",
      " 1   label   40000 non-null  int64 \n",
      " 2   year    40000 non-null  int64 \n",
      "dtypes: int64(2), object(1)\n",
      "memory usage: 937.6+ KB\n"
     ]
    }
   ],
   "source": [
    "df.info()"
   ]
  },
  {
   "cell_type": "code",
   "execution_count": null,
   "id": "083c8cc2",
   "metadata": {},
   "outputs": [
    {
     "data": {
      "text/plain": [
       "text     0\n",
       "label    0\n",
       "year     0\n",
       "dtype: int64"
      ]
     },
     "execution_count": 78,
     "metadata": {},
     "output_type": "execute_result"
    }
   ],
   "source": [
    "df.isna().sum()"
   ]
  },
  {
   "cell_type": "code",
   "execution_count": null,
   "id": "dd77e5a8",
   "metadata": {},
   "outputs": [
    {
     "data": {
      "text/plain": [
       "label\n",
       "0    20019\n",
       "1    19981\n",
       "Name: count, dtype: int64"
      ]
     },
     "execution_count": 80,
     "metadata": {},
     "output_type": "execute_result"
    }
   ],
   "source": [
    "df['label'].value_counts()"
   ]
  },
  {
   "cell_type": "markdown",
   "id": "7c2dae80",
   "metadata": {},
   "source": [
    "### Exercise 02: Show examples\n",
    "Print out some examples for positive and negative reviews.\n",
    "1. Print out 5 random reviews which have the label \"0\"\n",
    "2. Print out 5 random reviews which have the label \"1\"\n",
    "\n",
    "**Hints**:\n",
    "* Use `.sample()` on the filtered dataframe (see [documentation](https://pandas.pydata.org/docs/reference/api/pandas.DataFrame.sample.html)).\n",
    "* You can create a python list from the samples by using `to_list()`\n",
    "* Iterate over this list and print the elements"
   ]
  },
  {
   "cell_type": "code",
   "execution_count": null,
   "id": "14c74240",
   "metadata": {},
   "outputs": [],
   "source": [
    "# Filter the dataframe by the 'label' column\n",
    "filtered_label_0_reviews = df[df['label'] == 0]\n",
    "filtered_label_1_reviews = df[df['label'] == 1]\n",
    "\n",
    "# TODO: Your implementation\n",
    "label_0_reviews = filtered_label_0_reviews.sample(5)[\"text\"].to_list()\n",
    "label_1_reviews = filtered_label_1_reviews.sample(5)[\"text\"].to_list()\n",
    "\n",
    "print(\"Sample reviews with label 0:\")\n",
    "for review in label_0_reviews:\n",
    "    print(review)\n",
    "\n",
    "print()\n",
    "print(\"Sample reviews with label 1:\")\n",
    "for review in label_1_reviews:\n",
    "    print(review)"
   ]
  },
  {
   "cell_type": "markdown",
   "id": "12c77d60",
   "metadata": {},
   "source": [
    "### Exercise 03: Minor data manipulation\n",
    "Rename columns and values of the given dataframe.\n",
    "\n",
    "1. Rename the column \"label\" to \"sentiment\"\n",
    "2. Rename the column \"text\" to \"review\"\n",
    "3. Rename values in column \"sentiment\" to \"positive\" and \"negative\"\n",
    "4. Print the dataframe\n",
    "\n",
    "**Hints**:\n",
    "* Use `.rename()` for renaming columns (see [documentation](https://pandas.pydata.org/docs/reference/api/pandas.DataFrame.rename.html))\n",
    "* Use `.map()` for updating values of a column (see [documentation](https://pandas.pydata.org/docs/reference/api/pandas.Series.map.html))"
   ]
  },
  {
   "cell_type": "code",
   "execution_count": null,
   "id": "6df3be50",
   "metadata": {},
   "outputs": [
    {
     "data": {
      "text/html": [
       "<div>\n",
       "<style scoped>\n",
       "    .dataframe tbody tr th:only-of-type {\n",
       "        vertical-align: middle;\n",
       "    }\n",
       "\n",
       "    .dataframe tbody tr th {\n",
       "        vertical-align: top;\n",
       "    }\n",
       "\n",
       "    .dataframe thead th {\n",
       "        text-align: right;\n",
       "    }\n",
       "</style>\n",
       "<table border=\"1\" class=\"dataframe\">\n",
       "  <thead>\n",
       "    <tr style=\"text-align: right;\">\n",
       "      <th></th>\n",
       "      <th>review</th>\n",
       "      <th>sentiment</th>\n",
       "      <th>year</th>\n",
       "    </tr>\n",
       "  </thead>\n",
       "  <tbody>\n",
       "    <tr>\n",
       "      <th>0</th>\n",
       "      <td>I grew up (b. 1965) watching and loving the Th...</td>\n",
       "      <td>negative</td>\n",
       "      <td>2015</td>\n",
       "    </tr>\n",
       "    <tr>\n",
       "      <th>1</th>\n",
       "      <td>When I put this movie in my DVD player, and sa...</td>\n",
       "      <td>negative</td>\n",
       "      <td>2022</td>\n",
       "    </tr>\n",
       "    <tr>\n",
       "      <th>2</th>\n",
       "      <td>Why do people who do not know what a particula...</td>\n",
       "      <td>negative</td>\n",
       "      <td>2015</td>\n",
       "    </tr>\n",
       "    <tr>\n",
       "      <th>3</th>\n",
       "      <td>Even though I have great interest in Biblical ...</td>\n",
       "      <td>negative</td>\n",
       "      <td>2021</td>\n",
       "    </tr>\n",
       "    <tr>\n",
       "      <th>4</th>\n",
       "      <td>Im a die hard Dads Army fan and nothing will e...</td>\n",
       "      <td>positive</td>\n",
       "      <td>2021</td>\n",
       "    </tr>\n",
       "    <tr>\n",
       "      <th>...</th>\n",
       "      <td>...</td>\n",
       "      <td>...</td>\n",
       "      <td>...</td>\n",
       "    </tr>\n",
       "    <tr>\n",
       "      <th>39995</th>\n",
       "      <td>\"Western Union\" is something of a forgotten cl...</td>\n",
       "      <td>positive</td>\n",
       "      <td>2018</td>\n",
       "    </tr>\n",
       "    <tr>\n",
       "      <th>39996</th>\n",
       "      <td>This movie is an incredible piece of work. It ...</td>\n",
       "      <td>positive</td>\n",
       "      <td>2021</td>\n",
       "    </tr>\n",
       "    <tr>\n",
       "      <th>39997</th>\n",
       "      <td>My wife and I watched this movie because we pl...</td>\n",
       "      <td>negative</td>\n",
       "      <td>2023</td>\n",
       "    </tr>\n",
       "    <tr>\n",
       "      <th>39998</th>\n",
       "      <td>When I first watched Flatliners, I was amazed....</td>\n",
       "      <td>positive</td>\n",
       "      <td>2018</td>\n",
       "    </tr>\n",
       "    <tr>\n",
       "      <th>39999</th>\n",
       "      <td>Why would this film be so good, but only gross...</td>\n",
       "      <td>positive</td>\n",
       "      <td>2016</td>\n",
       "    </tr>\n",
       "  </tbody>\n",
       "</table>\n",
       "<p>40000 rows × 3 columns</p>\n",
       "</div>"
      ],
      "text/plain": [
       "                                                  review sentiment  year\n",
       "0      I grew up (b. 1965) watching and loving the Th...  negative  2015\n",
       "1      When I put this movie in my DVD player, and sa...  negative  2022\n",
       "2      Why do people who do not know what a particula...  negative  2015\n",
       "3      Even though I have great interest in Biblical ...  negative  2021\n",
       "4      Im a die hard Dads Army fan and nothing will e...  positive  2021\n",
       "...                                                  ...       ...   ...\n",
       "39995  \"Western Union\" is something of a forgotten cl...  positive  2018\n",
       "39996  This movie is an incredible piece of work. It ...  positive  2021\n",
       "39997  My wife and I watched this movie because we pl...  negative  2023\n",
       "39998  When I first watched Flatliners, I was amazed....  positive  2018\n",
       "39999  Why would this film be so good, but only gross...  positive  2016\n",
       "\n",
       "[40000 rows x 3 columns]"
      ]
     },
     "execution_count": 63,
     "metadata": {},
     "output_type": "execute_result"
    }
   ],
   "source": [
    "# TODO: Your implementation\n",
    "df.rename(columns={\"text\": \"review\", \"label\": \"sentiment\"}, inplace=True)\n",
    "df[\"sentiment\"] = df[\"sentiment\"].map({0: \"negative\", 1: \"positive\"})\n",
    "df"
   ]
  },
  {
   "cell_type": "markdown",
   "id": "a11a1af5",
   "metadata": {},
   "source": [
    "### Exercise 04: Summary Statistics on Review Lengths\n",
    "Analyze the length of the movie reviews in terms of character count. Calculate key summary statistics for the review lengths, including the average, maximum, and minimum lengths.\n",
    "1. Add a new column called review_length that stores the length of each review (in characters).\n",
    "2. Calculate the average, maximum, and minimum review lengths.\n",
    "3. Find the median and standard deviation of the review lengths.\n",
    "4. Find the longest and shortest reviews in the dataset.\n",
    "\n",
    "**Hints**:\n",
    "* Use `.apply(len)` to create the review_length column  (see [documentation](https://pandas.pydata.org/docs/reference/api/pandas.DataFrame.apply.html)).\n",
    "* Use `.mean()`, `.max()`, `.min()`, `.median()`, and `.std()` to get the desired statistics (see [documentation](https://pandas.pydata.org/docs/reference/api/pandas.DataFrame.mean.html)).\n",
    "* To find the longest and shortest reviews, you can use `.idxmax()` and `.idxmin()` on the review_length column (see [documentation](https://pandas.pydata.org/docs/reference/api/pandas.DataFrame.idxmax.html)).\n"
   ]
  },
  {
   "cell_type": "code",
   "execution_count": null,
   "id": "6222e142",
   "metadata": {},
   "outputs": [
    {
     "name": "stdout",
     "output_type": "stream",
     "text": [
      "avg_review_length=np.float64(1310.29325), min_review_length=np.int64(32), max_review_length=np.int64(13704)\n",
      "median_review_length=np.float64(973.0), std_review_length=np.float64(988.3585988002701)\n",
      "Longest review: Match 1: Tag Team Table Match Bubba Ray and Spike Dudley vs Eddie Guerrero and Chris Benoit Bubba Ray and Spike Dudley started things off with a Tag Team Table Match against Eddie Guerrero and Chris Benoit. According to the rules of the match, both opponents have to go through tables in order to get the win. Benoit and Guerrero heated up early on by taking turns hammering first Spike and then Bubba Ray. A German suplex by Benoit to Bubba took the wind out of the Dudley brother. Spike tried to help his brother, but the referee restrained him while Benoit and Guerrero ganged up on him in the corner. With Benoit stomping away on Bubba, Guerrero set up a table outside. Spike dashed into the ring and somersaulted over the top rope onto Guerrero on the outside! After recovering and taking care of Spike, Guerrero slipped a table into the ring and helped the Wolverine set it up. The tandem then set up for a double superplex from the middle rope which would have put Bubba through the table, but Spike knocked the table over right before his brother came crashing down! Guerrero and Benoit propped another table in the corner and tried to Irish Whip Spike through it, but Bubba dashed in and blocked his brother. Bubba caught fire and lifted both opponents into back body drops! Bubba slammed Guerrero and Spike stomped on the Wolverine from off the top rope. Bubba held Benoit at bay for Spike to soar into the Wassup! headbutt! Shortly after, Benoit latched Spike in the Crossface, but the match continued even after Spike tapped out. Bubba came to his brother's rescue and managed to sprawl Benoit on a table. Bubba leapt from the middle rope, but Benoit moved and sent Bubba crashing through the wood! But because his opponents didn't force him through the table, Bubba was allowed to stay in the match. The first man was eliminated shortly after, though, as Spike put Eddie through a table with a Dudley Dawg from the ring apron to the outside! Benoit put Spike through a table moments later to even the score. Within seconds, Bubba nailed a Bubba Bomb that put Benoit through a table and gave the Dudleys the win! Winner: Bubba Ray and Spike Dudley<br /><br />Match 2: Cruiserweight Championship Jamie Noble vs Billy Kidman Billy Kidman challenged Jamie Noble, who brought Nidia with him to the ring, for the Cruiserweight Championship. Noble and Kidman locked up and tumbled over the ring, but raced back inside and grappled some more. When Kidman thwarted all Noble's moves, Noble fled outside the ring where Nidia gave him some encouragement. The fight spread outside the ring and Noble threw his girlfriend into the challenger. Kidman tossed Nidia aside but was taken down with a modified arm bar. Noble continued to attack Kidman's injured arm back in the ring. Kidman's injured harm hampered his offense, but he continued to battle hard. Noble tried to put Kidman away with a powerbomb but the challenger countered into a facebuster. Kidman went to finish things with a Shooting Star Press, but Noble broke up the attempt. Kidman went for the Shooting Star Press again, but this time Noble just rolled out of harm's way. Noble flipped Kidman into a power bomb soon after and got the pin to retain his WWE Cruiserweight Championship! Winner: Jamie Noble<br /><br />Match 3: European Championship William Regal vs Jeff Hardy William Regal took on Jeff Hardy next in an attempt to win back the European Championship. Jeff catapulted Regal over the top rope then took him down with a hurracanrana off the ring apron. Back in the ring, Jeff hit the Whisper in the wind to knock Regal for a loop. Jeff went for the Swanton Bomb, but Regal got his knees up to hit Jeff with a devastating shot. Jeff managed to surprise Regal with a quick rollup though and got the pin to keep the European Championship! Regal started bawling at seeing Hardy celebrate on his way back up the ramp. Winner: Jeff Hardy<br /><br />Match 4: Chris Jericho vs John Cena Chris Jericho had promised to end John Cena's career in their match at Vengeance, which came up next. Jericho tried to teach Cena a lesson as their match began by suplexing him to the mat. Jericho continued to knock Cena around the ring until his cockiness got the better of him. While on the top rope, Jericho began to showboat and allowed Cena to grab him for a superplex! Cena followed with a tilt-a-whirl slam but was taken down with a nasty dropkick to the gut. The rookie recovered and hit a belly to belly suplex but couldn't put Y2J away. Jericho launched into the Lionsault but Cena dodged the move. Jericho nailed a bulldog and then connected on the Lionsault, but did not go for the cover. He goaded Cena to his feet so he could put on the Walls of Jericho. Cena had other ideas, reversing the move into a pin attempt and getting the 1-2-3! Jericho went berserk after the match. Winner: John Cena<br /><br />Match 5: Intercontinental Championship RVD vs Brock Lesnar via disqualification The Next Big Thing and Mr. Pay-Per-View tangled with the Intercontinental Championship on the line. Brock grabbed the title from the ref and draped it over his shoulder momentarily while glaring at RVD. Van Dam 's quickness gave Brock fits early on. The big man rolled out of the ring and kicked the steel steps out of frustration. Brock pulled himself together and began to take charge. With Paul Heyman beaming at ringside, Brock slammed RVD to the hard floor outside the ring. From there, Brock began to overpower RVD, throwing him with ease over the top rope. RVD landed painfully on his back, then had to suffer from having his spine cracked against the steel ring steps. The fight returned to the ring with Brock squeezing RVD around the ribs. RVD broke away and soon after leveled Brock with a kick to the temple. RVD followed with the Rolling Thunder but Brock managed to kick out after a two-count. The fight looked like it might be over soon as RVD went for a Five-Star Frog Splash. Brock, though, hoisted Van Dam onto his shoulder and went for the F-5, but RVD whirled Brock into a DDT and followed with the Frog Splash! He went for the pin, but Heyman pulled the ref from the ring! The ref immediately called for a disqualification and soon traded blows with Heyman! After, RVD leapt onto Brock from the top rope and then threatened to hit the Van Terminator! Heyman grabbed RVD's leg and Brock picked up the champ and this time connected with the F-5 onto a steel chair! Winner: RVD<br /><br />Match 6: Booker T vs the Big Show Booker T faced the Big Show one-on-one next. Show withstood Booker T's kicks and punches and slapped Booker into the corner. After being thrown from the ring, Booker picked up a chair at ringside, but Big Show punched it back into Booker's face. Booker tried to get back into the game by choking Show with a camera cable at ringside. Booker smashed a TV monitor from the Spanish announcers' position into Show's skull, then delivered a scissors kick that put both men through the table! Booker crawled back into the ring and Big Show staggered in moments later. Show grabbed Booker's throat but was met by a low blow and a kick to the face. Booker climbed the top rope and nailed a somersaulting leg drop to get the pin! Winner: Booker T<br /><br />Announcement: Triple H entered the ring to a thunderous ovation as fans hoped to learn where The Game would end up competing. Before he could speak, Eric Bishoff stopped The Game to apologize for getting involved in his personal business. If Triple H signed with RAW, Bischoff promised his personal life would never come into play again. Bischoff said he's spent the past two years networking in Hollywood. He said everyone was looking for the next breakout WWE Superstar, and they were all talking about Triple H. Bischoff guaranteed that if Triple H signed with RAW, he'd be getting top opportunities coming his way. Stephanie McMahon stepped out to issue her own pitch. She said that because of her personal history with Triple H, the two of them know each other very well. She said the two of them were once unstoppable and they can be again. Bischoff cut her off and begged her to stop. Stephanie cited that Triple H once told her how Bischoff said Triple H had no talent and no charisma. Bischoff said he was young at the time and didn't know what he had, but he still has a lot more experience that Stephanie. The two continued to bicker back and forth, until Triple H stepped up with his microphone. The Game said it would be easy to say \"screw you\" to either one of them. Triple H went to shake Bischoff's hand, but pulled it away. He said he would rather go with the devil he knows, rather than the one he doesn't know. Before he could go any further, though, Shawn Michaels came out to shake things up. HBK said the last thing he wanted to do was cause any trouble. He didn't want to get involved, but he remembered pledging to bring Triple H to the nWo. HBK said there's nobody in the world that Triple H is better friends with. HBK told his friend to imagine the two back together again, making Bischoff's life a living hell. Triple H said that was a tempting offer. He then turned and hugged HBK, making official his switch to RAW! Triple H and HBK left, and Bischoff gloated over his victory. Bischoff said the difference between the two of them is that he's got testicles and she doesn't. Stephanie whacked Bischoff on the side of the head and left!<br /><br />Match 7: Tag Team Championship Match Christian and Lance Storm vs Hollywood Hogan and Edge The match started with loud \"USA\" chants and with Hogan shoving Christian through the ropes and out of the ring. The Canadians took over from there. But Edge scored a kick to Christian's head and planted a facebuster on Storm to get the tag to Hogan. Hogan began to Hulk up and soon caught Christian with a big boot and a leg drop! Storm broke up the count and Christian tossed Hogan from the ring where Storm superkicked the icon. Edge tagged in soon after and dropped both opponents. He speared both of them into the corner turnbuckles, but missed a spear on Strom and hit the ref hard instead. Edge nailed a DDT, but the ref was down and could not count. Test raced down and took down Hogan then leveled Edge with a boot. Storm tried to get the pin, but Edge kicked out after two. Riksihi sprinted in to fend off Test, allowing Edge to recover and spear Storm. Christian distracted the ref, though, and Y2J dashed in and clocked Edge with the Tag Team Championship! Storm rolled over and got the pinfall to win the title! Winners and New Tag Team Champions: Christian and Lance Storm<br /><br />Match 8: WWE Undisputed Championship Triple Threat Match. The Rock vs Kurt Angle and the Undertaker Three of WWE's most successful superstars lined up against each other in a Triple Threat Match with the Undisputed Championship hanging in the balance. Taker and The Rock got face to face with Kurt Angle begging for some attention off to the side. He got attention in the form of a beat down form the two other men. Soon after, Taker spilled out of the ring and The Rock brawled with Angle. Angle gave a series of suplexes that took down Rock, but the Great One countered with a DDT that managed a two-count. The fight continued outside the ring with Taker coming to life and clotheslining Angle and repeatedly smacking The Rock. Taker and Rock got into it back into the ring, and Taker dropped The Rock with a sidewalk slam to get a two-count. Rock rebounded, grabbed Taker by the throat and chokeslammed him! Angle broke up the pin attempt that likely would have given The Rock the title. The Rock retaliated by latching on the ankle lock to Kurt Angle. Angle reversed the move and Rock Bottomed the People's Champion. Soon after, The Rock disposed of Angle and hit the People's Elbow on the Undertaker. Angle tried to take advantage by disabling the Great One outside the ring and covering Taker, who kicked out after a two count. Outside the ring, Rock took a big swig from a nearby water bottle and spewed the liquid into Taker's face to blind the champion. Taker didn't stay disabled for long, and managed to overpower Rock and turn his attention to Angle. Taker landed a guillotine leg drop onto Angle, laying on the ring apron. The Rock picked himself up just in time to break up a pin attempt on Kurt Angle. Taker nailed Rock with a DDT and set him up for a chokeslam. ANgle tried sneaking up with a steel chair, but Taker caught on to that tomfoolery and smacked it out of his hands. The referee got caught in the ensuing fire and didn't see Angle knock Taker silly with a steel chair. Angle went to cover Taker as The Rock lay prone, but the Dead Man somehow got his shoulder up. Angle tried to pin Rock, but he too kicked out. The Rock got up and landed Angle in the sharpshooter! Angle looked like he was about to tap, but Taker kicked The Rock out of the submission hold. Taker picked Rock up and crashed him with the Last Ride. While the Dead Man covered him for the win, Angle raced in and picked Taker up in the ankle lock! Taker went delirious with pain, but managed to counter. He picked Angle up for the last ride, but Angle put on a triangle choke! It looked like Taker was about to pass out, but The Rock broke Angle's hold only to find himself caught in the ankle lock. Rock got out of the hold and watched Taker chokeslam Angle. Rocky hit the Rock Bottom, but Taker refused to go down and kicked out. Angle whirled Taker up into the Angle Slam but was Rock Bottomed by the Great One and pinned! Winner and New WWE Champion: The Rock<br /><br />~Finally there is a decent PPV! Lately the PPV weren't very good, but this one was a winner. I give this PPV a A-<br /><br />\n",
      "Shortest review: Read the book, forget the movie!\n"
     ]
    }
   ],
   "source": [
    "# TODO: Your implementation\n",
    "# Calculate length of reviews\n",
    "df[\"review_length\"] = df[\"review\"].apply(len)\n",
    "\n",
    "# Average, Minimum and Maximum\n",
    "avg_review_length = df[\"review_length\"].mean()\n",
    "min_review_length = df[\"review_length\"].min()\n",
    "max_review_length = df[\"review_length\"].max()\n",
    "print(f\"{avg_review_length=}, {min_review_length=}, {max_review_length=}\")\n",
    "\n",
    "# Median & Standard Deviation\n",
    "median_review_length = df[\"review_length\"].median()\n",
    "std_review_length = df[\"review_length\"].std()\n",
    "print(f\"{median_review_length=}, {std_review_length=}\")\n",
    "\n",
    "# Find longest review\n",
    "longest_review = df.loc[df[\"review_length\"].idxmax()]\n",
    "print(f\"Longest review: {longest_review['review']}\")\n",
    "\n",
    "# Find shortest review\n",
    "shortest_review = df.loc[df[\"review_length\"].idxmin()]\n",
    "print(f\"Shortest review: {shortest_review['review']}\")"
   ]
  },
  {
   "cell_type": "markdown",
   "id": "a34a5ad7",
   "metadata": {},
   "source": [
    "### Exercise 05: Sentiment Distribution by length of review\n",
    "Understand how review lengths vary by sentiment (positive/negative). Investigate whether longer reviews tend to be more positive or negative.\n",
    "1. Group the reviews by sentiment (positive, negative).\n",
    "2. Calculate the average, minimum and maximum review length for each sentiment.\n",
    "3. Compare the distribution of review lengths between positive and negative reviews.\n",
    "\n",
    "**Hints**:\n",
    "* Use `.groupby()` to group the data by sentiment (see [documentation](https://pandas.pydata.org/docs/reference/api/pandas.DataFrame.groupby.html)).\n",
    "* Calculate the mean length using `.mean()` and the maximum/minimum lengths with `.agg(['max', 'min'])` (see [documentation](https://pandas.pydata.org/docs/reference/api/pandas.DataFrame.agg.html)).\n",
    "* To compare distributions, you can use `.describe()` to summarize the statistics for each group (see [documentation](https://pandas.pydata.org/docs/reference/api/pandas.DataFrame.describe.html))."
   ]
  },
  {
   "cell_type": "code",
   "execution_count": null,
   "id": "1bd51b6b",
   "metadata": {},
   "outputs": [
    {
     "data": {
      "text/html": [
       "<div>\n",
       "<style scoped>\n",
       "    .dataframe tbody tr th:only-of-type {\n",
       "        vertical-align: middle;\n",
       "    }\n",
       "\n",
       "    .dataframe tbody tr th {\n",
       "        vertical-align: top;\n",
       "    }\n",
       "\n",
       "    .dataframe thead th {\n",
       "        text-align: right;\n",
       "    }\n",
       "</style>\n",
       "<table border=\"1\" class=\"dataframe\">\n",
       "  <thead>\n",
       "    <tr style=\"text-align: right;\">\n",
       "      <th></th>\n",
       "      <th>avg_review_length</th>\n",
       "      <th>min_review_length</th>\n",
       "      <th>max_review_length</th>\n",
       "    </tr>\n",
       "    <tr>\n",
       "      <th>sentiment</th>\n",
       "      <th></th>\n",
       "      <th></th>\n",
       "      <th></th>\n",
       "    </tr>\n",
       "  </thead>\n",
       "  <tbody>\n",
       "    <tr>\n",
       "      <th>negative</th>\n",
       "      <td>1292.536990</td>\n",
       "      <td>32</td>\n",
       "      <td>8969</td>\n",
       "    </tr>\n",
       "    <tr>\n",
       "      <th>positive</th>\n",
       "      <td>1328.083279</td>\n",
       "      <td>65</td>\n",
       "      <td>13704</td>\n",
       "    </tr>\n",
       "  </tbody>\n",
       "</table>\n",
       "</div>"
      ],
      "text/plain": [
       "           avg_review_length  min_review_length  max_review_length\n",
       "sentiment                                                         \n",
       "negative         1292.536990                 32               8969\n",
       "positive         1328.083279                 65              13704"
      ]
     },
     "execution_count": 66,
     "metadata": {},
     "output_type": "execute_result"
    }
   ],
   "source": [
    "# TODO: Your implementation here\n",
    "\n",
    "# Solution (1/2)\n",
    "\n",
    "# Group the reviews by label (positive/negative)\n",
    "grouped = df.groupby(\"sentiment\")\n",
    "\n",
    "# Calculate the average, minimum and maximum review length for each sentiment\n",
    "stats_count_by_sentiment = grouped[\"review_length\"].agg([\"mean\", \"min\", \"max\"]).rename(\n",
    "    columns={\n",
    "        \"mean\": \"avg_review_length\",\n",
    "        \"min\": \"min_review_length\",\n",
    "        \"max\": \"max_review_length\"\n",
    "    }\n",
    ")\n",
    "\n",
    "stats_count_by_sentiment"
   ]
  },
  {
   "cell_type": "code",
   "execution_count": null,
   "id": "2c80aab8",
   "metadata": {},
   "outputs": [
    {
     "name": "stdout",
     "output_type": "stream",
     "text": [
      "Review length distribution by sentiment:\n",
      "             count         mean          std   min    25%    50%     75%  \\\n",
      "sentiment                                                                  \n",
      "negative   20019.0  1292.536990   942.220087  32.0  705.0  973.0  1571.0   \n",
      "positive   19981.0  1328.083279  1032.236721  65.0  690.0  972.0  1621.0   \n",
      "\n",
      "               max  \n",
      "sentiment           \n",
      "negative    8969.0  \n",
      "positive   13704.0  \n"
     ]
    }
   ],
   "source": [
    "# Solution (2/2)\n",
    "# Compare the distribution of review lengths between positive and negative reviews\n",
    "print(\"Review length distribution by sentiment:\")\n",
    "print(grouped[\"review_length\"].describe())"
   ]
  }
 ],
 "metadata": {
  "kernelspec": {
   "display_name": ".venv",
   "language": "python",
   "name": "python3"
  },
  "language_info": {
   "codemirror_mode": {
    "name": "ipython",
    "version": 3
   },
   "file_extension": ".py",
   "mimetype": "text/x-python",
   "name": "python",
   "nbconvert_exporter": "python",
   "pygments_lexer": "ipython3",
   "version": "3.13.1"
  }
 },
 "nbformat": 4,
 "nbformat_minor": 5
}

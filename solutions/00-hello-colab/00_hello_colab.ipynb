{
 "cells": [
  {
   "cell_type": "markdown",
   "id": "31d69f77",
   "metadata": {},
   "source": [
    "# GenAI-Camp: Day 01\n",
    "## Lesson: Hello Colab\n",
    "\n",
    "This lesson is intended to show you the basics of the colab environment. \n",
    "\n",
    "During this lesson you will learn about ...\n",
    "\n",
    "- jupyter notebooks\n",
    "- loading a jupyter notebook into colab\n",
    "- executing code cells"
   ]
  },
  {
   "cell_type": "code",
   "execution_count": 1,
   "id": "905a4bb6",
   "metadata": {},
   "outputs": [],
   "source": [
    "# This is just a placeholder. We will work on this together\n",
    "a = 1"
   ]
  }
 ],
 "metadata": {
  "kernelspec": {
   "display_name": ".venv",
   "language": "python",
   "name": "python3"
  },
  "language_info": {
   "codemirror_mode": {
    "name": "ipython",
    "version": 3
   },
   "file_extension": ".py",
   "mimetype": "text/x-python",
   "name": "python",
   "nbconvert_exporter": "python",
   "pygments_lexer": "ipython3",
   "version": "3.13.1"
  }
 },
 "nbformat": 4,
 "nbformat_minor": 5
}
